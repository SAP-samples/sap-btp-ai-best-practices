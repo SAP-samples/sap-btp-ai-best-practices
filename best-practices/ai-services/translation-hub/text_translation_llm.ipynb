{
 "cells": [
  {
   "cell_type": "markdown",
   "id": "844c4c42",
   "metadata": {},
   "source": [
    "-------------------------------------------------------------------------------\n",
    "### Text Translation (Sync) using SAP Translation Hub via LLM\n",
    "-------------------------------------------------------------------------------\n",
    "\n",
    "\n",
    "---------------------------------------------------------------------------\n",
    "What this script does\n",
    "1) Loads OAuth credentials and API base URL from a .env file.\n",
    "2) Fetches an access token via client-credentials.\n",
    "3) Calls the **Document Translation** sync endpoint with a JSON body.\n",
    "   - Here we send plain text with contentType=text/plain.\n",
    "4) Prints the raw JSON response (so you can see exactly what came back).\n",
    "--------------------------------------------------------------------------------------\n",
    "\n",
    "\n",
    "--------------------------------------------------------------------------------------------------\n",
    "Environment variables expected in .env\n",
    "- AUTH_URL          : OAuth token URL from your service key (…/oauth/token)\n",
    "- CLIENT_ID         : clientid from service key\n",
    "- CLIENT_SECRET     : clientsecret from service key\n",
    "- DOCTRANS_BASE     : e.g. https://document-translation.api.<region>.translationhub.cloud.sap\n",
    "-------------------------------------------------------------------------------------------------\n"
   ]
  },
  {
   "cell_type": "markdown",
   "id": "50951e80",
   "metadata": {},
   "source": [
    "Prerequisites\n",
    "\n",
    "- Python 3.10+\n",
    "\n",
    "- Libraries given below\n",
    "    - pip install python-dotenv requests python-docx\n",
    "\n",
    "- .env file in the working directory with required values\n",
    "- input file or text you want to translate"
   ]
  },
  {
   "cell_type": "code",
   "execution_count": 1,
   "id": "80efcdd1",
   "metadata": {},
   "outputs": [
    {
     "data": {
      "text/plain": [
       "True"
      ]
     },
     "execution_count": 1,
     "metadata": {},
     "output_type": "execute_result"
    }
   ],
   "source": [
    "import os, time, requests\n",
    "from dotenv import load_dotenv\n",
    "\n",
    "# loads variables from .env in current directory\n",
    "load_dotenv()"
   ]
  },
  {
   "cell_type": "code",
   "execution_count": 2,
   "id": "d0c2bc96",
   "metadata": {},
   "outputs": [],
   "source": [
    "# Checks if all the environment prequesties are met\n",
    "def require_env(name: str) -> str:\n",
    "    v = os.getenv(name)\n",
    "    if not v:\n",
    "        raise RuntimeError(f\"Missing env: {name}\")\n",
    "    return v\n",
    "\n",
    "\n",
    "# access from .env in current directory\n",
    "auth_url     = require_env(\"AUTH_URL\")\n",
    "client_id     = require_env(\"CLIENT_ID\")\n",
    "client_secret = require_env(\"CLIENT_SECRET\")\n",
    "translation_base_url = require_env(\"DOCTRANS_BASE\")"
   ]
  },
  {
   "cell_type": "code",
   "execution_count": 3,
   "id": "66ba76aa",
   "metadata": {},
   "outputs": [],
   "source": [
    "# code  to fetch the access token\n",
    "def get_token():\n",
    "    # Prepare the payload and headers\n",
    "    payload = {\n",
    "        \"grant_type\": \"client_credentials\"\n",
    "    }\n",
    "    headers = {\n",
    "        \"Content-Type\": \"application/x-www-form-urlencoded\"\n",
    "    }\n",
    "\n",
    "    # Make the POST request to obtain the token\n",
    "    response = requests.post(auth_url, data=payload, headers=headers, auth=(client_id, client_secret))\n",
    "\n",
    "    # Check if the request was successful\n",
    "    if response.status_code == 200:\n",
    "        access_token = response.json().get(\"access_token\")\n",
    "        print(\"Access token obtained successfully.\")\n",
    "    else:\n",
    "        print(f\"Failed to obtain access token: {response.status_code} - {response.text}\")\n",
    "    \n",
    "    return access_token"
   ]
  },
  {
   "cell_type": "code",
   "execution_count": 4,
   "id": "7334e4de",
   "metadata": {},
   "outputs": [
    {
     "name": "stdout",
     "output_type": "stream",
     "text": [
      "Access token obtained successfully.\n"
     ]
    }
   ],
   "source": [
    "# getting the acess token by calling the get token function\n",
    "access_token=get_token()"
   ]
  },
  {
   "cell_type": "markdown",
   "id": "bb52602a",
   "metadata": {},
   "source": [
    "##### The code is responsible for conversion of text from one language to other using LLM\n",
    "Required paramaters\n",
    "- sourceLanguage(optional) - The original source language of given text\n",
    "- targetLanguage - The target conversion language for the given text\n",
    "- model- \"LLM\" in case of using the LLM\n",
    "- encoding\n",
    "    - plain - If giving plain language text\n",
    "    - base64 - if objects are convered to \n",
    "- Content-Type\n",
    "    - text/plain\n",
    "    - text/HTML\n",
    "    - multipart\n",
    "- data : The text which you want to convert"
   ]
  },
  {
   "cell_type": "code",
   "execution_count": 5,
   "id": "8423a189",
   "metadata": {},
   "outputs": [
    {
     "name": "stdout",
     "output_type": "stream",
     "text": [
      "{'contentType': 'text/html', 'encoding': 'plain', 'sourceLanguage': 'de-DE', 'targetLanguage': 'en-US', 'model': 'llm', 'data': 'This sentence should be translated'}\n"
     ]
    }
   ],
   "source": [
    "headers = {\n",
    "    \"Authorization\": f\"Bearer {access_token}\",\n",
    "    \"Content-Type\": \"application/json\"\n",
    "}\n",
    "\n",
    "body = {\n",
    "   \"sourceLanguage\": \"de-DE\",\n",
    "   \"targetLanguage\": \"en-US\",\n",
    "   \"encoding\": \"plain\",\n",
    "   \"model\": \"llm\",\n",
    "   \"data\": \"Dieser Satz soll übersetzt werden\"\n",
    "}\n",
    "r = requests.post(f\"{translation_base_url}/api/v1/translation\", headers=headers, json=body, timeout=60)\n",
    "r.raise_for_status()\n",
    "print(r.json())\n",
    "\n"
   ]
  },
  {
   "cell_type": "markdown",
   "id": "533247b2",
   "metadata": {},
   "source": [
    "The r.json() gives the json object as shown below\n",
    "\n",
    "```json\n",
    "{\n",
    "    'contentType': 'text/plain',\n",
    "    'encoding': 'plain', \n",
    "    'sourceLanguage': 'de-DE',\n",
    "    'targetLanguage': 'en-US',\n",
    "    'model': 'llm',\n",
    "    'data': 'This sentence is to be translated.'\n",
    "}\n",
    "\n",
    "Which contains the desired translated text in \"data\" key"
   ]
  },
  {
   "cell_type": "code",
   "execution_count": 6,
   "id": "8edc6d70",
   "metadata": {},
   "outputs": [
    {
     "name": "stdout",
     "output_type": "stream",
     "text": [
      "This sentence should be translated\n"
     ]
    }
   ],
   "source": [
    "print(r.json().get(\"data\"))"
   ]
  },
  {
   "cell_type": "markdown",
   "id": "e9cdd021",
   "metadata": {},
   "source": [
    "### Summary\n",
    "\n",
    "This notebook demonstrates that you can convert text from to english using SAP BTP Document Translation Service."
   ]
  },
  {
   "cell_type": "markdown",
   "id": "dee5c789",
   "metadata": {},
   "source": []
  }
 ],
 "metadata": {
  "kernelspec": {
   "display_name": ".venv",
   "language": "python",
   "name": "python3"
  },
  "language_info": {
   "codemirror_mode": {
    "name": "ipython",
    "version": 3
   },
   "file_extension": ".py",
   "mimetype": "text/x-python",
   "name": "python",
   "nbconvert_exporter": "python",
   "pygments_lexer": "ipython3",
   "version": "3.10.18"
  }
 },
 "nbformat": 4,
 "nbformat_minor": 5
}
