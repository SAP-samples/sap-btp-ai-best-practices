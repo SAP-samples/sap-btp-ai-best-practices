{
 "cells": [
  {
   "cell_type": "markdown",
   "id": "d7328f9d",
   "metadata": {},
   "source": [
    "-------------------------------------------------------------------------------\n",
    "### Document Translation (Asynchronous) using SAP Translation Hub\n",
    "-------------------------------------------------------------------------------\n",
    "\n",
    "\n",
    "\n",
    "---------------------------------------------------------------------------\n",
    "What this script does\n",
    "1) Loads OAuth credentials and API base URL from a .env file.\n",
    "2) Fetches an access token via client-credentials.\n",
    "3) Creates a Async job  for document translation\n",
    "4) Poll for the job status\n",
    "5) List all the jobs that we may have\n",
    "6) Fetch the translated results using Results API.\n",
    "4) Delete a given job at any point of time.\n",
    "--------------------------------------------------------------------------------------\n",
    "\n",
    "\n",
    "\n",
    "--------------------------------------------------------------------------------------------------\n",
    "Environment variables expected in .env\n",
    "- AUTH_URL          : OAuth token URL from your service key (…/oauth/token)\n",
    "- CLIENT_ID         : clientid from service key\n",
    "- CLIENT_SECRET     : clientsecret from service key\n",
    "- DOCTRANS_BASE     : e.g. https://document-translation.api.<region>.translationhub.cloud.sap\n",
    "-------------------------------------------------------------------------------------------------\n"
   ]
  },
  {
   "cell_type": "markdown",
   "id": "5f26b586",
   "metadata": {},
   "source": [
    "A) Synchronous (for small docs)\n",
    "\n",
    "\n",
    "Good for short files (character/size limits apply for sync)."
   ]
  },
  {
   "cell_type": "markdown",
   "id": "97b2a78d",
   "metadata": {},
   "source": [
    "Prerequisites\n",
    "\n",
    "- Python 3.10+\n",
    "\n",
    "- Libraries given below\n",
    "    - pip install python-docx\n",
    "    - pip install python-dotenv requests python-docx\n",
    "\n",
    "- .env file in the working directory with required values\n",
    "- input file or text you want to translate"
   ]
  },
  {
   "cell_type": "code",
   "execution_count": 1,
   "id": "62b3ce6b",
   "metadata": {},
   "outputs": [],
   "source": [
    "import os, time, requests\n",
    "import os, requests, mimetypes, base64\n",
    "from dotenv import load_dotenv\n",
    "from docx import Document  \n",
    "from io import BytesIO\n",
    "from pathlib import Path\n",
    "from urllib.parse import urlencode\n",
    "import mimetypes\n",
    "from PyPDF2 import PdfReader\n",
    "# loads variables from .env in current directory\n",
    "load_dotenv()\n",
    "in_path = Path(r\"sample_doc\\SAP_BTP_Translation_Hub_DE_long_.pdf\")\n",
    "mime, _ = mimetypes.guess_type(str(in_path))"
   ]
  },
  {
   "cell_type": "code",
   "execution_count": 2,
   "id": "b23db3da",
   "metadata": {},
   "outputs": [],
   "source": [
    "# Checks if all the environment prequesties are met\n",
    "def require_env(name: str) -> str:\n",
    "    v = os.getenv(name)\n",
    "    if not v:\n",
    "        raise RuntimeError(f\"Missing env: {name}\")\n",
    "    return v\n",
    "\n",
    "# access from .env in current directory\n",
    "auth_url     = require_env(\"AUTH_URL\")\n",
    "client_id     = require_env(\"CLIENT_ID\")\n",
    "client_secret = require_env(\"CLIENT_SECRET\")\n",
    "translation_base_url = require_env(\"DOCTRANS_BASE\")"
   ]
  },
  {
   "cell_type": "code",
   "execution_count": 44,
   "id": "23a3ced5",
   "metadata": {},
   "outputs": [],
   "source": [
    "# code  to fetch the access token\n",
    "def get_token():\n",
    "    # Prepare the payload and headers\n",
    "    payload = {\n",
    "        \"grant_type\": \"client_credentials\"\n",
    "    }\n",
    "    headers = {\n",
    "        \"Content-Type\": \"application/x-www-form-urlencoded\"\n",
    "    }\n",
    "\n",
    "    # Make the POST request to obtain the token\n",
    "    response = requests.post(auth_url, data=payload, headers=headers, auth=(client_id, client_secret))\n",
    "\n",
    "    # Check if the request was successful\n",
    "    if response.status_code == 200:\n",
    "        access_token = response.json().get(\"access_token\")\n",
    "        print(\"Access token obtained successfully.\")\n",
    "    else:\n",
    "        print(f\"Failed to obtain access token: {response.status_code} - {response.text}\")\n",
    "    \n",
    "    return access_token"
   ]
  },
  {
   "cell_type": "code",
   "execution_count": 45,
   "id": "70ce3668",
   "metadata": {},
   "outputs": [
    {
     "name": "stdout",
     "output_type": "stream",
     "text": [
      "Access token obtained successfully.\n"
     ]
    }
   ],
   "source": [
    "# getting the acess token by calling the get token function\n",
    "access_token=get_token()"
   ]
  },
  {
   "cell_type": "markdown",
   "id": "83ef3c10",
   "metadata": {},
   "source": [
    "### 1. Create an Async Job (multipart upload)\n",
    "Starts a long-running translation by uploading your document and parameters (like sourceLanguage, targetLanguage, model) in one request. The service returns a job ID you’ll use for status checks and result download later. This is the most robust way to initiate async translations because it cleanly carries binary files plus fields.\n",
    "\n",
    "\n",
    "\n",
    "This creates an asynchronous translation job. The API can be called supplying either using “Content-Type” multipart/form-data (“formData”), the actual content type to translate “RAW”, or enclosing the request in a JSON object.  For this notebook we are going ahead with form-data approach"
   ]
  },
  {
   "cell_type": "code",
   "execution_count": 46,
   "id": "94bc7548",
   "metadata": {},
   "outputs": [],
   "source": [
    "def create_job(file_path: Path, source=\"de-DE\", target=\"en-US\", model=\"default\") -> str:\n",
    "    mime, _ = mimetypes.guess_type(str(file_path))\n",
    "    with file_path.open(\"rb\") as f:\n",
    "        files = {\"file\": (file_path.name, f, mime or \"application/octet-stream\")}\n",
    "        r = requests.post(\n",
    "            f\"{translation_base_url}/api/v1/translation/jobs\",\n",
    "            headers={\n",
    "                \"Authorization\": f\"Bearer {access_token}\",\n",
    "                \"Accept\": \"application/json\",   \n",
    "            },\n",
    "            data={\n",
    "                \"sourceLanguage\": source,\n",
    "                \"targetLanguage\": target,   \n",
    "                \"model\": model,\n",
    "            },\n",
    "            files=files,   # <-- multipart; requests sets Content-Type\n",
    "            timeout=120,\n",
    "        )\n",
    "    r.raise_for_status()\n",
    "    job_id = r.json().get(\"id\") or r.json().get(\"jobId\")\n",
    "    if not job_id:\n",
    "        raise RuntimeError(f\"Job ID not found in response: {r.text}\")\n",
    "    return job_id\n"
   ]
  },
  {
   "cell_type": "code",
   "execution_count": 47,
   "id": "0e4ebda3",
   "metadata": {},
   "outputs": [
    {
     "name": "stdout",
     "output_type": "stream",
     "text": [
      "Created job: a1cdab55-0a2d-4a18-bfe2-3a1aab725420\n"
     ]
    }
   ],
   "source": [
    "# 1) create job (multipart)\n",
    "job_id = create_job(in_path, source=\"de-DE\", target=\"en-US\", model=\"default\")\n",
    "print(\"Created job:\", job_id)"
   ]
  },
  {
   "cell_type": "markdown",
   "id": "aa0b4044",
   "metadata": {},
   "source": [
    "### 2.Get Job Status — polling until complete\n",
    "\n",
    "Retrieves the latest state for your job (e.g., pending/in-progress/completed/failed). You’ll call this repeatedly until it’s ready, then move on to download the result.\n",
    "\n",
    "\n",
    "Status of jobs\n",
    "- PENDING\n",
    "- ERROR\n",
    "- DONE (Controls whether requests for the status will redirect to the result when the file translation has completed. When “enableRedirect” is omitted or set to true a status request for a job which has the status “DONE” will lead to a HTTP 303 response with the Location header containing the URL of the result (/api/v1/translation/jobs/{jobid}/result). When “enableRedirect” is present and set to false a status request for a job which has the status “DONE” will lead to a HTTP 200 response without a Location header.)in our case we have set it to false\n"
   ]
  },
  {
   "cell_type": "code",
   "execution_count": 48,
   "id": "c0628f45",
   "metadata": {},
   "outputs": [],
   "source": [
    "def wait_until_done(job_id: str) -> dict:\n",
    "\n",
    "    params = {\n",
    "    \"enableRedirect\": False,\n",
    "}\n",
    "    qs = \"?\" + urlencode(params)\n",
    "    url = translation_base_url.rstrip(\"/\") + \"/api/v1/translation/jobs/\"+job_id+qs\n",
    "\n",
    "    r = requests.get(\n",
    "        url,\n",
    "        headers={\"Authorization\": f\"Bearer {access_token}\"},\n",
    "        timeout=30,\n",
    "    )\n",
    "    r.raise_for_status()\n",
    "    info = r.json()\n",
    "    return info\n"
   ]
  },
  {
   "cell_type": "code",
   "execution_count": 49,
   "id": "19f2a58b",
   "metadata": {},
   "outputs": [
    {
     "name": "stdout",
     "output_type": "stream",
     "text": [
      "Final status: {'id': 'a1cdab55-0a2d-4a18-bfe2-3a1aab725420', 'progress': 0.0, 'status': 'PENDING', 'sourceFilename': 'SAP_BTP_Translation_Hub_DE_long_.pdf', 'sourceLanguage': 'de-DE', 'targetLanguage': 'en-US', 'sourceSize': 3891374, 'uploadedOn': '2025-09-15T12:13:31.131391300Z', 'model': 'default'}\n"
     ]
    }
   ],
   "source": [
    "info = wait_until_done(job_id)\n",
    "print(\"Final status:\", info)\n"
   ]
  },
  {
   "cell_type": "code",
   "execution_count": 50,
   "id": "eb3843d5",
   "metadata": {},
   "outputs": [
    {
     "name": "stdout",
     "output_type": "stream",
     "text": [
      "Final status: {'id': 'a1cdab55-0a2d-4a18-bfe2-3a1aab725420', 'progress': 1.0, 'status': 'DONE', 'sourceFilename': 'SAP_BTP_Translation_Hub_DE_long_.pdf', 'sourceLanguage': 'de-DE', 'targetLanguage': 'en-US', 'sourceSize': 3891374, 'uploadedOn': '2025-09-15T12:13:31.131391300Z', 'model': 'default'}\n"
     ]
    }
   ],
   "source": [
    "info = wait_until_done(job_id)\n",
    "print(\"Final status:\", info)\n"
   ]
  },
  {
   "cell_type": "markdown",
   "id": "6b5a2ec8",
   "metadata": {},
   "source": [
    "### 3. List Your Jobs\n",
    "Returns a lists all the translation jobs created by the current user known to the system.\n",
    "\n",
    "\n",
    "To use the user-specific APIs of SAP BTP Document Translation (like listing translations or checking job history), you must authenticate with a user-specific JWT.\n",
    "These JWTs can only be obtained via OAuth 2.0 Authorization Code or Password Credentials flow — other token types won’t work.\n",
    "\n",
    "Check for more details https://help.sap.com/docs/translation-hub/sap-translation-hub/user-specific-json-web-tokens"
   ]
  },
  {
   "cell_type": "code",
   "execution_count": null,
   "id": "fd1175b6",
   "metadata": {},
   "outputs": [],
   "source": [
    "def list_jobs(top=20, skip=0, include_count=True) -> dict:\n",
    "    params = {\"$top\": top, \"$skip\": skip}\n",
    "    if include_count:\n",
    "        params[\"$count\"] = \"true\"\n",
    "    r = requests.get(\n",
    "        f\"{translation_base_url}/api/v1/translation/jobs\",\n",
    "        headers={\"Authorization\": f\"Bearer {access_token}\", \"Accept\": \"application/json\"},\n",
    "        params=params,\n",
    "        timeout=60,\n",
    "    )\n",
    "    r.raise_for_status()\n",
    "    return r.json() \n"
   ]
  },
  {
   "cell_type": "markdown",
   "id": "d712c577",
   "metadata": {},
   "source": [
    "### 4. Download the Result\n",
    "Retrieves the translated file for a completed job."
   ]
  },
  {
   "cell_type": "code",
   "execution_count": 56,
   "id": "0c71ac85",
   "metadata": {},
   "outputs": [],
   "source": [
    "def download_result_as_text(job_id):\n",
    "    \n",
    "    url = f\"{translation_base_url}/api/v1/translation/jobs/{job_id}/result\"\n",
    "    headers = {\n",
    "        \"Authorization\": f\"Bearer {access_token}\",\n",
    "        \"Accept\": \"application/json\"   \n",
    "    }\n",
    "    \n",
    "    response = requests.get(url, headers=headers)\n",
    "\n",
    "    if response.status_code == 200:\n",
    "        result = response.json()\n",
    "        return result\n",
    "    else:\n",
    "        raise Exception(f\"Error: {response.status_code}, {response.text}\")"
   ]
  },
  {
   "cell_type": "code",
   "execution_count": 57,
   "id": "876c5825",
   "metadata": {},
   "outputs": [
    {
     "name": "stdout",
     "output_type": "stream",
     "text": [
      "{'contentType': 'application/vnd.openxmlformats-officedocument.wordprocessingml.document', 'encoding': 'base64', 'sourceLanguage': 'de-DE', 'targetLanguage': 'en-US', 'model': 'default', 'data': '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'}\n"
     ]
    }
   ],
   "source": [
    "out_path=download_result_as_text(job_id)\n",
    "print(out_path)"
   ]
  },
  {
   "cell_type": "code",
   "execution_count": 58,
   "id": "9602a1fe",
   "metadata": {},
   "outputs": [
    {
     "name": "stdout",
     "output_type": "stream",
     "text": [
      "SAP BTP Translation Hub – A Comprehensive Overview Introduction\n",
      "SAP Business Technology Platform (BTP) Translation Hub is a cloud service  from SAP that helps companies translate content in many languages quickly, consistently, and cost-effectively.\n",
      "In a world where companies are increasingly working globally, it is becoming increasingly important that content is not only available in one language. Employees, partners, and customers expect information to be available in their native language. This is exactly where the Translation Hub starts.\n",
      "\n",
      "\n",
      "Central Functions\n",
      "Classic Machine Translation\n",
      "The service uses modern machine translation technologies. This means that texts are automatically transferred from one language to another. Numerous language pairs are available – from English to German to Chinese – Spanish.\n",
      "Domain-specific glossaries\n",
      "Companies often have their own technical terms, product names, or abbreviations. To ensure that these are not distorted during translation, Translation Hub offers the option to upload and use glossaries.\n",
      "For example, the word “order” can mean “order” or “order” in the context. With a glossary, the company can specify that in all translations always\n",
      "\"Order\".\n",
      "Quality Inspections\n",
      "The service checks translations for completeness, consistency, and readability. This  ensures that no records are missing and that the texts remain understandable. For companies, this means less rework and better results.\n",
      "Support for different file formats\n",
      "Often, not only pure text files need to be translated, but complex documents such as:\n",
      "Microsoft Word, Excel, or PowerPoint\n",
      "PDF Files\n",
      "XML or JSON files\n",
      "UI Texts from Software Projects\n",
      "\n",
      "The Translation Hub receives the original layout so that the translated documents can be used immediately.\n",
      "\n",
      "\n",
      "Enhanced Options\n",
      "LLM-Assisted Translations\n",
      "In addition to the classic machine translations, the service also integrates:\n",
      "Large Language Models (LLMs). These are especially helpful when it comes  to creating natural sounding texts.\n",
      "For example, a marketing text should not only be correct, but also emotionally appealing in another language. Here, the LLM-supported variant  provides better results.\n",
      "Seamless integration into workflows\n",
      "Using REST APIs, companies can integrate the translation hub directly into their  existing systems:\n",
      "SAP applications (e.g. B. SAP S/4HANA, SuccessFactors, Ariba)\n",
      "Own Business Applications\n",
      "Automated workflows and RPA scenarios\n",
      "This means that the translation can run fully automatically without employees having to intervene manually.\n",
      "Security and Access Control\n",
      "As it is a cloud service, security is a key topic. Access is via OAuth 2.0 secured interfaces. Organizations can control who can translate what content, keeping full control.\n",
      "\n",
      "\n",
      "Business Value\n",
      "Time savings – Translations take place in seconds instead of days.\n",
      "Consistency – Same terms are translated identically across all projects.\n",
      "Cost reduction – Less effort for external translation agencies.\n",
      "Scalability – From small projects to global rollout campaigns.\n",
      "Flexibility – Support for many languages, file formats, and integration scenarios.\n",
      "\n",
      "\n",
      "Typical Use Cases\n",
      "\n",
      "Software translation: localization of user interfaces, menus, and error messages.\n",
      "Document translation: manuals, contracts, product brochures.\n",
      "Marketing: Campaigns, newsletters, and social media posts in multiple languages.\n",
      "Compliance: Legal documents or policies in different countries.\n",
      "E-learning: Learning content and training materials for international teams.\n",
      "\n",
      "\n",
      "Control as required\n",
      "The Translation Hub is so flexible that languages, domains and providers can be chosen depending on the use case.\n",
      "A company can e.g. B. Enable stricter rules and  glossaries for legal texts.\n",
      "For marketing texts, on the other hand, a stylistically freer translation mode  can be chosen.\n",
      "In this way, the service adapts to the individual requirements of each project.\n",
      "\n",
      "\n",
      "Future viability\n",
      "SAP BTP Translation Hub is not only a translation tool, but a  strategic tool for digital transformation.\n",
      "It enables companies to:\n",
      "Enter global markets faster.\n",
      "Make your products and services more accessible.\n",
      "Easier to connect employees in different countries.\n",
      "\n",
      "\n",
      "Conclusion\n",
      "The SAP BTP Translation Hub is a powerful service that supports translations from  the first idea to the global rollout. With its APIs, glossaries, LLMs, and security mechanisms, it provides a flexible platform that meets the growing demands of global companies.\n",
      "Whether short texts, extensive documents or entire software solutions – the  translation hub ensures fast, uniform and high-quality\n",
      "Translations.\n",
      "\n",
      "  This enhanced document is deliberately long and detailed. Depending on the font size and layout, it will contain approximately 3 pages in a PDF version.\n",
      "Should I create the PDF in multipage format with this text (which you can then use for your multipart/form-data example)?\n"
     ]
    }
   ],
   "source": [
    "blob = base64.b64decode(out_path.get(\"data\"))\n",
    "doc = Document(BytesIO(blob))\n",
    "print(\"\\n\".join(p.text for p in doc.paragraphs))"
   ]
  },
  {
   "cell_type": "markdown",
   "id": "04fe6294",
   "metadata": {},
   "source": [
    "### 5. Delete Job\n",
    "\n",
    "Removes a job once you have downloaded and archived it in your system.\n",
    "\n",
    "Note : When using User-Specific JSON Web Tokens only jobs created by the same user can be deleted. When not using user-specific JSON web tokens only jobs created without the using user-specific JSON web tokens can be deleted."
   ]
  },
  {
   "cell_type": "code",
   "execution_count": 59,
   "id": "758902be",
   "metadata": {},
   "outputs": [],
   "source": [
    "def delete_job(job_id: str) -> None:\n",
    "    r = requests.delete(\n",
    "        f\"{translation_base_url}/api/v1/translation/jobs/{job_id}\",\n",
    "        headers={\"Authorization\": f\"Bearer {access_token}\"},\n",
    "        timeout=30,\n",
    "    )\n",
    "    r.raise_for_status()"
   ]
  },
  {
   "cell_type": "code",
   "execution_count": 60,
   "id": "d063923e",
   "metadata": {},
   "outputs": [
    {
     "name": "stdout",
     "output_type": "stream",
     "text": [
      "Deleted job: a1cdab55-0a2d-4a18-bfe2-3a1aab725420\n"
     ]
    }
   ],
   "source": [
    "delete_job(job_id)\n",
    "print(\"Deleted job:\", job_id)"
   ]
  }
 ],
 "metadata": {
  "kernelspec": {
   "display_name": "Python 3",
   "language": "python",
   "name": "python3"
  },
  "language_info": {
   "codemirror_mode": {
    "name": "ipython",
    "version": 3
   },
   "file_extension": ".py",
   "mimetype": "text/x-python",
   "name": "python",
   "nbconvert_exporter": "python",
   "pygments_lexer": "ipython3",
   "version": "3.12.9"
  }
 },
 "nbformat": 4,
 "nbformat_minor": 5
}
