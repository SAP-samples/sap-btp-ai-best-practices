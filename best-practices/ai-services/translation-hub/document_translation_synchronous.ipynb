{
 "cells": [
  {
   "cell_type": "markdown",
   "id": "d7328f9d",
   "metadata": {},
   "source": [
    "---------------------------------------------------------------------------\n",
    "---------------------------------------------------------------------------\n",
    "### Document Translation (Synchronous) using SAP Translation Hub\n",
    "---------------------------------------------------------------------------\n",
    "---------------------------------------------------------------------------\n",
    "\n",
    "\n",
    "---------------------------------------------------------------------------\n",
    "What this script does\n",
    "1) Loads OAuth credentials and API base URL from a .env file.\n",
    "2) Fetches an access token via client-credentials.\n",
    "3) Sends a document to translate using one of three request styles:\n",
    "   - JSON Body Content → JSON response (base64 file inside JSON)\n",
    "\n",
    "   - FORM-DATA → RAW bytes (translated file as binary stream)\n",
    "\n",
    "   - RAW upload (no multipart) → JSON response (base64 file inside JSON)\n",
    "\n",
    "4) Reads the translated DOCX in memory and prints its text\n",
    "---------------------------------------------------------------------------\n",
    "\n",
    "\n",
    "\n",
    "---------------------------------------------------------------------------\n",
    "Environment variables expected in .env\n",
    "- AUTH_URL          : OAuth token URL from your service key (…/oauth/token)\n",
    "- CLIENT_ID         : clientid from service key\n",
    "- CLIENT_SECRET     : clientsecret from service key\n",
    "- DOCTRANS_BASE     : e.g. https://document-translation.api.<region>.translationhub.cloud.sap\n",
    "--------------------------------------------------------------------------\n"
   ]
  },
  {
   "cell_type": "markdown",
   "id": "5f26b586",
   "metadata": {},
   "source": [
    "A) Synchronous (for small docs)\n",
    "\n",
    "\n",
    "Good for short files (character/size limits apply for sync)."
   ]
  },
  {
   "cell_type": "markdown",
   "id": "97b2a78d",
   "metadata": {},
   "source": [
    "Prerequisites\n",
    "\n",
    "- Python 3.10+\n",
    "\n",
    "- Libraries given below\n",
    "    - pip install python-docx\n",
    "    - pip install python-dotenv requests python-docx\n",
    "\n",
    "- .env file in the working directory with required values\n",
    "- input file or text you want to translate"
   ]
  },
  {
   "cell_type": "code",
   "execution_count": 8,
   "id": "62b3ce6b",
   "metadata": {},
   "outputs": [],
   "source": [
    "import os, time, requests\n",
    "import os, requests, mimetypes, base64\n",
    "from dotenv import load_dotenv\n",
    "from docx import Document  \n",
    "from io import BytesIO\n",
    "from pathlib import Path\n",
    "from urllib.parse import urlencode\n",
    "import mimetypes\n",
    "from PyPDF2 import PdfReader\n",
    "# loads variables from .env in current directory\n",
    "load_dotenv()\n",
    "# Use Path.joinpath to ensure compatibility across Unix and Windows systems\n",
    "in_path = Path(\"sample_doc\").joinpath(\"SAP_BTP_Translation_Hub_DE.pdf\")\n",
    "mime, _ = mimetypes.guess_type(str(in_path))"
   ]
  },
  {
   "cell_type": "code",
   "execution_count": 9,
   "id": "b23db3da",
   "metadata": {},
   "outputs": [],
   "source": [
    "# Checks if all the environment prequesties are met\n",
    "def require_env(name: str) -> str:\n",
    "    v = os.getenv(name)\n",
    "    if not v:\n",
    "        raise RuntimeError(f\"Missing env: {name}\")\n",
    "    return v\n",
    "\n",
    "\n",
    "# access from .env in current directory\n",
    "auth_url     = require_env(\"AUTH_URL\")\n",
    "client_id     = require_env(\"CLIENT_ID\")\n",
    "client_secret = require_env(\"CLIENT_SECRET\")\n",
    "translation_base_url = require_env(\"DOCTRANS_BASE\")"
   ]
  },
  {
   "cell_type": "code",
   "execution_count": 10,
   "id": "23a3ced5",
   "metadata": {},
   "outputs": [],
   "source": [
    "# code  to fetch the access token\n",
    "def get_token():\n",
    "    # Prepare the payload and headers\n",
    "    payload = {\n",
    "        \"grant_type\": \"client_credentials\"\n",
    "    }\n",
    "    headers = {\n",
    "        \"Content-Type\": \"application/x-www-form-urlencoded\"\n",
    "    }\n",
    "\n",
    "    # Make the POST request to obtain the token\n",
    "    response = requests.post(auth_url, data=payload, headers=headers, auth=(client_id, client_secret))\n",
    "\n",
    "    # Check if the request was successful\n",
    "    if response.status_code == 200:\n",
    "        access_token = response.json().get(\"access_token\")\n",
    "        print(\"Access token obtained successfully.\")\n",
    "    else:\n",
    "        print(f\"Failed to obtain access token: {response.status_code} - {response.text}\")\n",
    "    \n",
    "    return access_token"
   ]
  },
  {
   "cell_type": "code",
   "execution_count": 11,
   "id": "70ce3668",
   "metadata": {},
   "outputs": [
    {
     "name": "stdout",
     "output_type": "stream",
     "text": [
      "Access token obtained successfully.\n"
     ]
    }
   ],
   "source": [
    "# getting the acess token by calling the get token function\n",
    "access_token=get_token()"
   ]
  },
  {
   "cell_type": "markdown",
   "id": "3126fd28",
   "metadata": {},
   "source": [
    "### Option 1) JSON Body Content → JSON response"
   ]
  },
  {
   "cell_type": "markdown",
   "id": "1c2c4128",
   "metadata": {},
   "source": [
    "When to use:\n",
    "\n",
    "- You prefer structured responses (status + metadata + data field with the file).\n",
    "\n",
    "- You’re building UI/backend code that already handles base64 decoding.\n",
    "\n",
    "- Easiest to debug/log because you can inspect JSON.\n",
    "\n",
    "Important header rule: Do not set Content-Type: multipart/form-data yourself.\n",
    "requests sets it (with proper boundary) when you pass files=...."
   ]
  },
  {
   "cell_type": "code",
   "execution_count": 12,
   "id": "59e2541f",
   "metadata": {},
   "outputs": [
    {
     "name": "stdout",
     "output_type": "stream",
     "text": [
      "SAP BTP Translation Hub  ist ein Cloud -Service, der Unternehmen dabei unterstützt, \n",
      "Inhalte schnell und konsistent zu übersetzen.  \n",
      "Er verbindet klassische maschinelle Übersetzung mit domänenspezifischen Glossaren \n",
      "und Qualitätsprüfungen.  \n",
      "Über APIs können Apps und Workflows nahtlos angebunden werden.  \n",
      "Layouts und Dateiformate bleiben bei Dokumentübersetzungen weitgehend erhalten.  \n",
      "Für kurze Texte  steht zudem eine LLM-gestützte Übersetzung  bereit, wenn \n",
      "natürlichere Formulierungen gefragt sind.  \n",
      "Entwickler greifen per OAuth-gesicherte REST -Schnittstellen  auf den Service zu.  \n",
      "Sprachen, Domänen und Provider lassen sich je Use -Case steuern.  \n",
      "So skaliert Übersetzung vom Prototyp  bis zur Unternehmensweite  \n",
      " \n"
     ]
    }
   ],
   "source": [
    "reader = PdfReader(in_path)\n",
    "text = \"\\n\".join(page.extract_text() or \"\" for page in reader.pages)\n",
    "print(text)"
   ]
  },
  {
   "cell_type": "code",
   "execution_count": 13,
   "id": "1baf98ab",
   "metadata": {},
   "outputs": [
    {
     "name": "stdout",
     "output_type": "stream",
     "text": [
      "{'contentType': 'text/html', 'encoding': 'plain', 'sourceLanguage': 'de-DE', 'targetLanguage': 'en-US', 'model': 'default', 'data': 'SAP BTP Translation Hub is a cloud service that helps companies \\nto translate content quickly and consistently.  \\nIt combines classic machine translation with domain-specific glossaries \\nand quality inspections.  \\nApps and workflows can be connected seamlessly using APIs.  \\nLayouts and file formats are largely retained for document translations.  \\nFor short texts, an LLM-supported translation is also available if: \\nmore natural formulations.  \\nDevelopers access the service using OAuth secured REST interfaces.  \\nLanguages, domains, and providers can be controlled for each use case.  \\nHow translation scales from prototype to enterprise-wide  \\n '}\n"
     ]
    }
   ],
   "source": [
    "headers = {\n",
    "    \"Authorization\": f\"Bearer {access_token}\",\n",
    "     \"Accept\": \"application/json\"\n",
    "    }\n",
    "\n",
    "body = {\n",
    "    \"sourceLanguage\": \"de-DE\",\n",
    "    \"targetLanguage\": \"en-US\",\n",
    "    \"model\": \"default\",\n",
    "    \"data\":f\"{text}\"\n",
    "}\n",
    "resp = requests.post(\n",
    "    f\"{translation_base_url}/api/v1/translation\", json=body,\n",
    "    headers=headers,\n",
    "    timeout=120,\n",
    ")\n",
    "print(resp.json())\n"
   ]
  },
  {
   "cell_type": "code",
   "execution_count": 14,
   "id": "b41d0270",
   "metadata": {},
   "outputs": [
    {
     "name": "stdout",
     "output_type": "stream",
     "text": [
      "SAP BTP Translation Hub is a cloud service that helps companies \n",
      "to translate content quickly and consistently.  \n",
      "It combines classic machine translation with domain-specific glossaries \n",
      "and quality inspections.  \n",
      "Apps and workflows can be connected seamlessly using APIs.  \n",
      "Layouts and file formats are largely retained for document translations.  \n",
      "For short texts, an LLM-supported translation is also available if: \n",
      "more natural formulations.  \n",
      "Developers access the service using OAuth secured REST interfaces.  \n",
      "Languages, domains, and providers can be controlled for each use case.  \n",
      "How translation scales from prototype to enterprise-wide  \n",
      " \n"
     ]
    }
   ],
   "source": [
    "print(resp.json().get(\"data\"))"
   ]
  },
  {
   "cell_type": "markdown",
   "id": "83ef3c10",
   "metadata": {},
   "source": [
    "### Option 2) FORM-DATA upload → RAW bytes\n",
    "\n",
    "When to use:\n",
    "\n",
    "- You want the translated file directly as the HTTP body (no JSON wrapping).\n",
    "- Ideal for streaming to disk or sending the bytes onwards without decoding."
   ]
  },
  {
   "cell_type": "code",
   "execution_count": 15,
   "id": "94bc7548",
   "metadata": {},
   "outputs": [
    {
     "name": "stdout",
     "output_type": "stream",
     "text": [
      "SAP BTP Translation Hub  is a cloud service that helps companies translate content quickly and consistently.\n",
      "It combines classic machine translation with domain-specific glossaries and quality checks.\n",
      "Apps and workflows can be connected seamlessly using APIs.\n",
      "Layouts and file formats are largely retained for document translations.\n",
      "For short texts, an LLM-supported translation  is also available if more natural formulations are required.\n",
      "Developers access the service using OAuth secured REST interfaces. Languages, domains, and providers can be controlled for each use case.\n",
      "How translation scales from prototype  to enterprise-wide\n"
     ]
    }
   ],
   "source": [
    "headers = {\n",
    "    \"Authorization\": f\"Bearer {access_token}\",\n",
    "    #\"Content-Type\": \"multipart/form-data\",\n",
    "     \"Accept\": \"application/octet-stream\"#/json\"\n",
    "    }\n",
    "\n",
    "params = {\n",
    "    \"sourceLanguage\": \"de-DE\",\n",
    "    \"targetLanguage\": \"en-US\",\n",
    "    \"model\": \"default\",\n",
    "}\n",
    "\n",
    "\n",
    "f = open(in_path, \"rb\") \n",
    "\n",
    "try:\n",
    "    file = {\"file\": (in_path.name, f, mime)}\n",
    "    resp = requests.post(\n",
    "        f\"{translation_base_url}/api/v1/translation\", data=params,\n",
    "        headers=headers,\n",
    "        files=file,\n",
    "        timeout=120,\n",
    "    )\n",
    "    resp.raise_for_status()\n",
    "finally:\n",
    "    f.close()\n",
    "\n",
    "doc = Document(BytesIO(resp._content))\n",
    "print(\"\\n\".join(p.text for p in doc.paragraphs))\n"
   ]
  },
  {
   "cell_type": "markdown",
   "id": "874a9f00",
   "metadata": {},
   "source": [
    "### Option 3) RAW upload (no multipart) → JSON response\n",
    "\n",
    "When to use:\n",
    "- Your client can’t easily build multipart bodies.\n",
    "- You want to POST the file bytes directly with an accurate Content-Type.\n",
    "- You still prefer JSON back (base64 data)."
   ]
  },
  {
   "cell_type": "code",
   "execution_count": 16,
   "id": "84fe36ac",
   "metadata": {},
   "outputs": [
    {
     "name": "stdout",
     "output_type": "stream",
     "text": [
      "SAP BTP Translation Hub  is a cloud service that helps companies translate content quickly and consistently.\n",
      "It combines classic machine translation with domain-specific glossaries and quality checks.\n",
      "Apps and workflows can be connected seamlessly using APIs.\n",
      "Layouts and file formats are largely retained for document translations.\n",
      "For short texts, an LLM-supported translation  is also available if more natural formulations are required.\n",
      "Developers access the service using OAuth secured REST interfaces. Languages, domains, and providers can be controlled for each use case.\n",
      "How translation scales from prototype  to enterprise-wide\n"
     ]
    }
   ],
   "source": [
    "headers = {\n",
    "    \"Authorization\": f\"Bearer {access_token}\",\n",
    "    \"Content-Type\": \"application/pdf\",\n",
    "     \"Accept\": \"application/json\"\n",
    "    }\n",
    "\n",
    "params = {\n",
    "    \"sourceLanguage\": \"de-DE\",\n",
    "    \"targetLanguage\": \"en-US\",\n",
    "    \"model\": \"default\",\n",
    "}\n",
    "\n",
    "qs = \"?\" + urlencode(params)\n",
    "url = translation_base_url.rstrip(\"/\") + \"/api/v1/translation\" + qs\n",
    "\n",
    "f = open(in_path, \"rb\") \n",
    "\n",
    "try:\n",
    "    \n",
    "    resp = requests.post(\n",
    "        url,\n",
    "        headers=headers,\n",
    "        data = f.read(),\n",
    "        timeout=120,\n",
    "    )\n",
    "    resp.raise_for_status()\n",
    "finally:\n",
    "    f.close()\n",
    "\n",
    "blob = base64.b64decode(resp.json().get(\"data\"))\n",
    "doc = Document(BytesIO(blob))\n",
    "print(\"\\n\".join(p.text for p in doc.paragraphs))\n"
   ]
  },
  {
   "cell_type": "markdown",
   "id": "6a09b526",
   "metadata": {},
   "source": [
    "###  Summary\n",
    "\n",
    "We have achieved the following with above notebook\n",
    "1) Authroization to translationhub service.\n",
    "2) Document translatiion from german to english language with three different ways\n",
    "   - JSON Body Content \n",
    "   - FORM-DATA \n",
    "   - RAW upload"
   ]
  }
 ],
 "metadata": {
  "kernelspec": {
   "display_name": ".venv",
   "language": "python",
   "name": "python3"
  },
  "language_info": {
   "codemirror_mode": {
    "name": "ipython",
    "version": 3
   },
   "file_extension": ".py",
   "mimetype": "text/x-python",
   "name": "python",
   "nbconvert_exporter": "python",
   "pygments_lexer": "ipython3",
   "version": "3.10.18"
  }
 },
 "nbformat": 4,
 "nbformat_minor": 5
}
