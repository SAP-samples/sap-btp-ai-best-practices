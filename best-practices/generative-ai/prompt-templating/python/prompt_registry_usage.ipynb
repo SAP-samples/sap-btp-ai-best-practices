{
 "cells": [
  {
   "cell_type": "markdown",
   "id": "3cdf2d82",
   "metadata": {},
   "source": [
    "# Load Prompt Registry Client\n",
    "In the next example, following the previous Notebook on Prompt creation, we will create and upload a Prompt template to the Prompt Registry"
   ]
  },
  {
   "cell_type": "code",
   "execution_count": null,
   "id": "a3ff2786",
   "metadata": {},
   "outputs": [
    {
     "name": "stdout",
     "output_type": "stream",
     "text": [
      "PromptTemplateClient initialized successfully.\n",
      "Created template: 9d419fab-c4c3-4443-a38f-d615e5ad39e6\n"
     ]
    }
   ],
   "source": [
    "from gen_ai_hub.proxy import get_proxy_client\n",
    "from gen_ai_hub.prompt_registry.client import PromptTemplateClient\n",
    "\n",
    "from gen_ai_hub.prompt_registry.models.prompt_template import PromptTemplateSpec, PromptTemplate\n",
    "from dotenv import load_dotenv\n",
    "load_dotenv()\n",
    "\n",
    "proxy_client = get_proxy_client(proxy_version=\"gen-ai-hub\")\n",
    "prompt_registry_client = PromptTemplateClient(proxy_client=proxy_client)\n",
    "print(\"PromptTemplateClient initialized successfully.\")\n",
    "\n",
    "# Use camelCase for the prompt variable names\n",
    "prompt_spec = PromptTemplateSpec(\n",
    "    template=[\n",
    "        PromptTemplate(role=\"system\",\n",
    "                       content=\"You are a helpful translation assistant.\"),\n",
    "        PromptTemplate(role=\"user\",\n",
    "                       content=\"Translate the following text to {{?toLang}}: {{?text}}\")\n",
    "    ],\n",
    "    defaults={\"toLang\": \"German\"}\n",
    ")\n",
    "\n",
    "\n",
    "resp = prompt_registry_client.create_prompt_template(\n",
    "    scenario=\"translation\",\n",
    "    name=\"translate_text\",\n",
    "    version=\"0.1.0\",\n",
    "    prompt_template_spec=prompt_spec,\n",
    ")\n",
    "template_id = resp.id\n",
    "print(\"Created template:\", template_id)"
   ]
  },
  {
   "cell_type": "markdown",
   "id": "081ddfaa",
   "metadata": {},
   "source": [
    "# Define the LLM\n",
    "The `LLM` class is used to configure and initialize a language model for generating text based on specific parameters. In this example, we'll use the gpt-4o"
   ]
  },
  {
   "cell_type": "code",
   "execution_count": 3,
   "id": "56cfa5fb",
   "metadata": {},
   "outputs": [],
   "source": [
    "from gen_ai_hub.orchestration.models.llm import LLM\n",
    "\n",
    "llm = LLM(name=\"gpt-4o\", version=\"latest\", parameters={\"max_tokens\": 256, \"temperature\": 0.2})"
   ]
  },
  {
   "cell_type": "markdown",
   "id": "cd38dc0b",
   "metadata": {},
   "source": [
    "# Create Orchestration Configuration\n",
    "The `OrchestrationConfig` class defines a configuration for integrating various modules, such as templates and language models, into a cohesive orchestration setup."
   ]
  },
  {
   "cell_type": "code",
   "execution_count": 4,
   "id": "da79ccd7",
   "metadata": {},
   "outputs": [],
   "source": [
    "from gen_ai_hub.orchestration.models.config import OrchestrationConfig\n",
    "from gen_ai_hub.orchestration.models.template_ref import TemplateRef\n",
    "\n",
    "template_ref = TemplateRef.from_tuple(\n",
    "    scenario=\"translation\",\n",
    "    name=\"translate_text\",\n",
    "    version=\"0.1.0\",\n",
    ")\n",
    "\n",
    "config = OrchestrationConfig(\n",
    "    template=template_ref,\n",
    "    llm=llm,\n",
    ")"
   ]
  },
  {
   "cell_type": "markdown",
   "id": "cb16314e",
   "metadata": {},
   "source": [
    "# Run the Orchestration Request"
   ]
  },
  {
   "cell_type": "code",
   "execution_count": null,
   "id": "7175000f",
   "metadata": {},
   "outputs": [
    {
     "name": "stdout",
     "output_type": "stream",
     "text": [
      "Le service d'orchestration fonctionne !\n"
     ]
    }
   ],
   "source": [
    "from gen_ai_hub.orchestration.service import OrchestrationService\n",
    "from gen_ai_hub.orchestration.models.template import TemplateValue\n",
    "\n",
    "orchestration_service = OrchestrationService(config=config)\n",
    "\n",
    "result = orchestration_service.run(template_values=[\n",
    "    TemplateValue(name=\"toLang\", value=\"French\"),\n",
    "    TemplateValue(name=\"text\", value=\"The Orchestration Service is working!\")\n",
    "])\n",
    "\n",
    "print(result.orchestration_result.choices[0].message.content)"
   ]
  },
  {
   "cell_type": "code",
   "execution_count": null,
   "id": "0aa3b0cb",
   "metadata": {},
   "outputs": [
    {
     "name": "stdout",
     "output_type": "stream",
     "text": [
      "Der Orchestrierungsdienst funktioniert!\n"
     ]
    }
   ],
   "source": [
    "# Using default language value\n",
    "result = orchestration_service.run(template_values=[\n",
    "    TemplateValue(name=\"text\", value=\"The Orchestration Service is working!\")\n",
    "])\n",
    "\n",
    "print(result.orchestration_result.choices[0].message.content)"
   ]
  }
 ],
 "metadata": {
  "kernelspec": {
   "display_name": ".venv",
   "language": "python",
   "name": "python3"
  },
  "language_info": {
   "codemirror_mode": {
    "name": "ipython",
    "version": 3
   },
   "file_extension": ".py",
   "mimetype": "text/x-python",
   "name": "python",
   "nbconvert_exporter": "python",
   "pygments_lexer": "ipython3",
   "version": "3.12.9"
  }
 },
 "nbformat": 4,
 "nbformat_minor": 5
}
