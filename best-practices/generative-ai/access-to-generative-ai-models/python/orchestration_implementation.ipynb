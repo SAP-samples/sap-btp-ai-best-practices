{
 "cells": [
  {
   "cell_type": "markdown",
   "metadata": {},
   "source": [
    "# Import libraries and environment keys"
   ]
  },
  {
   "cell_type": "code",
   "execution_count": 1,
   "metadata": {},
   "outputs": [
    {
     "data": {
      "text/plain": [
       "True"
      ]
     },
     "execution_count": 1,
     "metadata": {},
     "output_type": "execute_result"
    }
   ],
   "source": [
    "from dotenv import load_dotenv\n",
    "load_dotenv()"
   ]
  },
  {
   "cell_type": "markdown",
   "metadata": {},
   "source": [
    "# Orchestration Implementation\n",
    "We can unify the method to call any model from SAP GenAI Hub using the Orchestration Service."
   ]
  },
  {
   "cell_type": "code",
   "execution_count": 2,
   "metadata": {},
   "outputs": [
    {
     "name": "stdout",
     "output_type": "stream",
     "text": [
      "OrchestrationResponse(request_id='8d1bcb0c-1a76-43d4-9ed3-d3e61d094729', module_results=ModuleResults(input_filtering=None, output_filtering=None, input_masking=None, grounding=None, llm=LLMResult(id='chatcmpl-BAwp46lBPeSAPCj7BqG0w8DclXKQ3', object='chat.completion', created=1741949094, model='gpt-4o-2024-08-06', choices=[LLMChoice(index=0, message=Message(role=<Role.ASSISTANT: 'assistant'>, content='The capital of France is Paris.'), finish_reason='stop', logprobs=None)], usage=LLMUsage(completion_tokens=7, prompt_tokens=24, total_tokens=31), system_fingerprint='fp_ded0d14823'), templating=[Message(role=<Role.SYSTEM: 'system'>, content='You are a helpful assistant.'), Message(role=<Role.USER: 'user'>, content='What is the capital of France?')], output_unmasking=None), orchestration_result=LLMResult(id='chatcmpl-BAwp46lBPeSAPCj7BqG0w8DclXKQ3', object='chat.completion', created=1741949094, model='gpt-4o-2024-08-06', choices=[LLMChoice(index=0, message=Message(role=<Role.ASSISTANT: 'assistant'>, content='The capital of France is Paris.'), finish_reason='stop', logprobs=None)], usage=LLMUsage(completion_tokens=7, prompt_tokens=24, total_tokens=31), system_fingerprint='fp_ded0d14823'))\n"
     ]
    }
   ],
   "source": [
    "from gen_ai_hub.orchestration.models.message import SystemMessage, UserMessage\n",
    "from gen_ai_hub.orchestration.models.template import Template\n",
    "from gen_ai_hub.orchestration.service import OrchestrationService\n",
    "from gen_ai_hub.orchestration.models.llm import LLM\n",
    "from gen_ai_hub.orchestration.models.config import OrchestrationConfig\n",
    "\n",
    "# Set up model parameters\n",
    "temperature = 0.6\n",
    "max_Tokens = 1000\n",
    "# model_name = \"anthropic--claude-3.5-sonnet\"\n",
    "model_name = \"gpt-4o\"  # Also compatible with all the models in this notebook\n",
    "\n",
    "# Define message template\n",
    "template = Template(\n",
    "    messages=[\n",
    "        SystemMessage(\"You are a helpful assistant.\"),\n",
    "        UserMessage(\n",
    "            \"What is the capital of France?\"\n",
    "        ),\n",
    "    ]\n",
    ")\n",
    "\n",
    "# Define LLM configuration\n",
    "llm = LLM(name=model_name, version=\"latest\", parameters={\"max_tokens\": max_Tokens, \"temperature\": temperature})\n",
    "llm = LLM(name=model_name)\n",
    "\n",
    "config = OrchestrationConfig(\n",
    "    template=template,\n",
    "    llm=llm,\n",
    ")\n",
    "\n",
    "orchestration_service = OrchestrationService(config=config)\n",
    "\n",
    "result = orchestration_service.run()\n",
    "print(result)\n"
   ]
  },
  {
   "cell_type": "code",
   "execution_count": 3,
   "metadata": {},
   "outputs": [
    {
     "name": "stdout",
     "output_type": "stream",
     "text": [
      "The capital of France is Paris.\n"
     ]
    }
   ],
   "source": [
    "print(result.orchestration_result.choices[0].message.content)"
   ]
  }
 ],
 "metadata": {
  "kernelspec": {
   "display_name": ".venv",
   "language": "python",
   "name": "python3"
  },
  "language_info": {
   "codemirror_mode": {
    "name": "ipython",
    "version": 3
   },
   "file_extension": ".py",
   "mimetype": "text/x-python",
   "name": "python",
   "nbconvert_exporter": "python",
   "pygments_lexer": "ipython3",
   "version": "3.12.3"
  }
 },
 "nbformat": 4,
 "nbformat_minor": 2
}
