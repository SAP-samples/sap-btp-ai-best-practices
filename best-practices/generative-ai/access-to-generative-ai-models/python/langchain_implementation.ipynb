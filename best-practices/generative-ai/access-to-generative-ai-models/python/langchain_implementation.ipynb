{
 "cells": [
  {
   "cell_type": "markdown",
   "metadata": {},
   "source": [
    "# Import libraries and environment keys"
   ]
  },
  {
   "cell_type": "code",
   "execution_count": 1,
   "metadata": {},
   "outputs": [
    {
     "data": {
      "text/plain": [
       "True"
      ]
     },
     "execution_count": 1,
     "metadata": {},
     "output_type": "execute_result"
    }
   ],
   "source": [
    "from dotenv import load_dotenv\n",
    "load_dotenv()"
   ]
  },
  {
   "cell_type": "markdown",
   "metadata": {},
   "source": [
    "# Langchain Implementations"
   ]
  },
  {
   "cell_type": "markdown",
   "metadata": {},
   "source": [
    "## OpenAI Models"
   ]
  },
  {
   "cell_type": "code",
   "execution_count": 2,
   "metadata": {},
   "outputs": [
    {
     "name": "stdout",
     "output_type": "stream",
     "text": [
      "content='The capital of France is Paris.' additional_kwargs={'refusal': None} response_metadata={'token_usage': {'completion_tokens': 8, 'prompt_tokens': 14, 'total_tokens': 22, 'completion_tokens_details': {'accepted_prediction_tokens': 0, 'audio_tokens': 0, 'reasoning_tokens': 0, 'rejected_prediction_tokens': 0}, 'prompt_tokens_details': {'audio_tokens': 0, 'cached_tokens': 0}}, 'model_name': 'gpt-4o-2024-05-13', 'system_fingerprint': 'fp_ee1d74bde0', 'id': 'chatcmpl-BpGyQPiM3MUlvEhq5u9eC7KeWVYZa', 'service_tier': None, 'finish_reason': 'stop', 'logprobs': None} id='run--adcfc472-2bf2-4ac5-bcc7-c8fcdf625218-0' usage_metadata={'input_tokens': 14, 'output_tokens': 8, 'total_tokens': 22, 'input_token_details': {'audio': 0, 'cache_read': 0}, 'output_token_details': {'audio': 0, 'reasoning': 0}}\n"
     ]
    }
   ],
   "source": [
    "from gen_ai_hub.proxy.langchain.openai import ChatOpenAI\n",
    "\n",
    "# Model parameters\n",
    "temperature = 0.6\n",
    "max_Tokens = 1000\n",
    "model_name = \"gpt-4o\"\n",
    "\n",
    "# Initialize the model\n",
    "chat = ChatOpenAI(proxy_model_name=model_name, max_tokens=max_Tokens, temperature=temperature)\n",
    "\n",
    "prompt = \"\"\"What is the capital of France?\"\"\"\n",
    "response = chat.invoke(prompt)\n",
    "print(response)\n"
   ]
  },
  {
   "cell_type": "code",
   "execution_count": 3,
   "metadata": {},
   "outputs": [
    {
     "name": "stdout",
     "output_type": "stream",
     "text": [
      "The capital of France is Paris.\n"
     ]
    }
   ],
   "source": [
    "print(response.content)"
   ]
  },
  {
   "cell_type": "markdown",
   "metadata": {},
   "source": [
    "## Amazon and Athropic Models"
   ]
  },
  {
   "cell_type": "markdown",
   "metadata": {},
   "source": [
    "### How ChatBedrock Initialization Works\n",
    "\n",
    "The ChatBedrock class from gen_ai_hub is a wrapper around LangChain's ChatBedrock that handles SAP AI Core proxy configuration automatically.\n",
    "\n",
    "**Key parameters:**\n",
    "- `model_name`: The AI Core model name (e.g., \"anthropic--claude-3.5-sonnet\")\n",
    "- `temperature`: Controls randomness (0.0 to 1.0)\n",
    "- `model_kwargs`: Model-specific parameters like max_tokens\n",
    "\n",
    "**Behind the scenes:**\n",
    "1. ChatBedrock creates a Session().client() with the model_name\n",
    "2. The client automatically connects to SAP AI Core using your environment credentials\n",
    "3. No need to manually specify deployment_id, config_id, or proxy_client - these are handled automatically\n",
    "\n",
    "**Note:** If you see a KeyError about 'client_params', ensure you're passing parameters correctly to the ChatBedrock constructor."
   ]
  },
  {
   "cell_type": "code",
   "execution_count": 4,
   "metadata": {},
   "outputs": [
    {
     "name": "stdout",
     "output_type": "stream",
     "text": [
      "The capital of France is Paris.\n"
     ]
    }
   ],
   "source": [
    "print(response.content if hasattr(response, 'content') else str(response))"
   ]
  },
  {
   "cell_type": "code",
   "execution_count": null,
   "metadata": {},
   "outputs": [],
   "source": [
    "from gen_ai_hub.proxy.langchain.amazon import ChatBedrock\n",
    "\n",
    "# Model parameters\n",
    "temperature = 0.6\n",
    "max_tokens = 1000  # Note: variable name should match parameter name\n",
    "model_name = \"anthropic--claude-3.5-sonnet\"\n",
    "\n",
    "# Initialize the model - the SDK handles proxy client creation internally\n",
    "chat = ChatBedrock(\n",
    "    model_name=model_name,\n",
    "    temperature=temperature,\n",
    "    model_kwargs={\n",
    "        \"max_tokens\": max_tokens,  # For Anthropic models\n",
    "        \"top_p\": 1.0  # Default value\n",
    "    }\n",
    ")\n",
    "\n",
    "prompt = \"\"\"What is the capital of France?\"\"\"\n",
    "response = chat.invoke(prompt)\n",
    "print(response)"
   ]
  },
  {
   "cell_type": "markdown",
   "metadata": {},
   "source": [
    "## Google Vertex AI Models"
   ]
  },
  {
   "cell_type": "code",
   "execution_count": 6,
   "metadata": {},
   "outputs": [
    {
     "name": "stderr",
     "output_type": "stream",
     "text": [
      "/Users/I760054/Documents/programs/Best Practices/sap-btp-ai-best-practices/.venv/lib/python3.10/site-packages/vertexai/generative_models/_generative_models.py:433: UserWarning: This feature is deprecated as of June 24, 2025 and will be removed on June 24, 2026. For details, see https://cloud.google.com/vertex-ai/generative-ai/docs/deprecations/genai-vertexai-sdk.\n",
      "  warning_logs.show_deprecation_warning()\n",
      "Unexpected argument 'genaihub_client' provided to ChatVertexAI.\n",
      "/var/folders/wc/q7_36ld508x9bwjncqlgk8dw0000gn/T/ipykernel_31000/3954943745.py:10: UserWarning: WARNING! genaihub_client is not default parameter.\n",
      "                genaihub_client was transferred to model_kwargs.\n",
      "                Please confirm that genaihub_client is what you intended.\n",
      "  chat = ChatVertexAI(\n",
      "/Users/I760054/Documents/programs/Best Practices/sap-btp-ai-best-practices/.venv/lib/python3.10/site-packages/vertexai/generative_models/_generative_models.py:433: UserWarning: This feature is deprecated as of June 24, 2025 and will be removed on June 24, 2026. For details, see https://cloud.google.com/vertex-ai/generative-ai/docs/deprecations/genai-vertexai-sdk.\n",
      "  warning_logs.show_deprecation_warning()\n"
     ]
    },
    {
     "name": "stdout",
     "output_type": "stream",
     "text": [
      "content='Paris\\n' additional_kwargs={} response_metadata={'is_blocked': False, 'safety_ratings': [], 'usage_metadata': {'prompt_token_count': 7, 'candidates_token_count': 2, 'total_token_count': 9, 'prompt_tokens_details': [{'modality': 1, 'token_count': 7}], 'candidates_tokens_details': [{'modality': 1, 'token_count': 2}], 'thoughts_token_count': 0, 'cached_content_token_count': 0, 'cache_tokens_details': []}, 'finish_reason': 'STOP', 'avg_logprobs': -0.015780039131641388, 'model_name': 'gemini-1.5-pro'} id='run--caadf5c6-ef8c-419b-a8bc-e049457e41db-0' usage_metadata={'input_tokens': 7, 'output_tokens': 2, 'total_tokens': 9, 'input_token_details': {'cache_read': 0}}\n"
     ]
    }
   ],
   "source": [
    "from gen_ai_hub.proxy.langchain.google_vertexai import ChatVertexAI\n",
    "from gen_ai_hub.proxy.native.google_vertexai.clients import GenerativeModel\n",
    "\n",
    "# Model parameters\n",
    "temperature = 0.6\n",
    "max_tokens = 1000\n",
    "model_name = \"gemini-1.5-pro\"\n",
    "\n",
    "# Initialize the model\n",
    "chat = ChatVertexAI(\n",
    "    model_name=model_name,  # Use model_name parameter instead of model_id\n",
    "    temperature=temperature,\n",
    "    max_output_tokens=max_tokens  # For Vertex AI models\n",
    ")\n",
    "\n",
    "# Manually sets the genaihub attribute\n",
    "chat.genaihub_client = GenerativeModel(\n",
    "    model_name=model_name,\n",
    "    proxy_client=None  # Will use default proxy client\n",
    ")\n",
    "\n",
    "prompt = \"\"\"What is the capital of France?\"\"\"\n",
    "response = chat.invoke(prompt)\n",
    "print(response)"
   ]
  },
  {
   "cell_type": "code",
   "execution_count": 7,
   "metadata": {},
   "outputs": [
    {
     "name": "stdout",
     "output_type": "stream",
     "text": [
      "Paris\n",
      "\n"
     ]
    }
   ],
   "source": [
    "print(response.content)"
   ]
  }
 ],
 "metadata": {
  "kernelspec": {
   "display_name": ".venv",
   "language": "python",
   "name": "python3"
  },
  "language_info": {
   "codemirror_mode": {
    "name": "ipython",
    "version": 3
   },
   "file_extension": ".py",
   "mimetype": "text/x-python",
   "name": "python",
   "nbconvert_exporter": "python",
   "pygments_lexer": "ipython3",
   "version": "3.10.18"
  }
 },
 "nbformat": 4,
 "nbformat_minor": 2
}
