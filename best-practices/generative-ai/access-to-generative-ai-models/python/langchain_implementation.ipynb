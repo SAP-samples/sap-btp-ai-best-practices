{
 "cells": [
  {
   "cell_type": "markdown",
   "metadata": {},
   "source": [
    "# Import libraries and environment keys"
   ]
  },
  {
   "cell_type": "code",
   "execution_count": 2,
   "metadata": {},
   "outputs": [
    {
     "data": {
      "text/plain": [
       "True"
      ]
     },
     "execution_count": 2,
     "metadata": {},
     "output_type": "execute_result"
    }
   ],
   "source": [
    "from dotenv import load_dotenv\n",
    "load_dotenv()"
   ]
  },
  {
   "cell_type": "markdown",
   "metadata": {},
   "source": [
    "# Langchain Implementations"
   ]
  },
  {
   "cell_type": "markdown",
   "metadata": {},
   "source": [
    "## OpenAI Models"
   ]
  },
  {
   "cell_type": "code",
   "execution_count": 4,
   "metadata": {},
   "outputs": [
    {
     "name": "stdout",
     "output_type": "stream",
     "text": [
      "content='The capital of France is Paris.' additional_kwargs={'refusal': None} response_metadata={'token_usage': {'completion_tokens': 7, 'prompt_tokens': 14, 'total_tokens': 21, 'completion_tokens_details': {'accepted_prediction_tokens': 0, 'audio_tokens': 0, 'reasoning_tokens': 0, 'rejected_prediction_tokens': 0}, 'prompt_tokens_details': {'audio_tokens': 0, 'cached_tokens': 0}}, 'model_name': 'gpt-4o-2024-08-06', 'system_fingerprint': 'fp_ded0d14823', 'finish_reason': 'stop', 'logprobs': None} id='run-3c48329e-0eca-4297-86f8-4794e1705175-0' usage_metadata={'input_tokens': 14, 'output_tokens': 7, 'total_tokens': 21, 'input_token_details': {'audio': 0, 'cache_read': 0}, 'output_token_details': {'audio': 0, 'reasoning': 0}}\n"
     ]
    }
   ],
   "source": [
    "from gen_ai_hub.proxy.langchain.openai import ChatOpenAI\n",
    "\n",
    "# Model parameters\n",
    "temperature = 0.6\n",
    "max_Tokens = 1000\n",
    "model_name = \"gpt-4o\"\n",
    "\n",
    "# Initialize the model\n",
    "chat = ChatOpenAI(proxy_model_name=model_name, max_tokens=max_Tokens, temperature=temperature)\n",
    "\n",
    "prompt = \"\"\"What is the capital of France?\"\"\"\n",
    "response = chat.invoke(prompt)\n",
    "print(response)\n"
   ]
  },
  {
   "cell_type": "code",
   "execution_count": 5,
   "metadata": {},
   "outputs": [
    {
     "name": "stdout",
     "output_type": "stream",
     "text": [
      "The capital of France is Paris.\n"
     ]
    }
   ],
   "source": [
    "print(response.content)"
   ]
  },
  {
   "cell_type": "markdown",
   "metadata": {},
   "source": [
    "## Amazon and Athropic Models"
   ]
  },
  {
   "cell_type": "code",
   "execution_count": 6,
   "metadata": {},
   "outputs": [
    {
     "name": "stdout",
     "output_type": "stream",
     "text": [
      "content='The capital of France is Paris.' additional_kwargs={'usage': {'prompt_tokens': 0, 'completion_tokens': 0, 'total_tokens': 0}, 'stop_reason': 'end_turn', 'thinking': {}, 'model_id': 'anthropic.claude-3-5-sonnet-20240620-v1:0'} response_metadata={'usage': {'prompt_tokens': 0, 'completion_tokens': 0, 'total_tokens': 0}, 'stop_reason': 'end_turn', 'thinking': {}, 'model_id': 'anthropic.claude-3-5-sonnet-20240620-v1:0'} id='run-68922001-4c30-436a-9ce2-fea37426f55c-0' usage_metadata={'input_tokens': 0, 'output_tokens': 0, 'total_tokens': 0}\n"
     ]
    }
   ],
   "source": [
    "from gen_ai_hub.proxy.langchain.amazon import ChatBedrock\n",
    "\n",
    "# Model parameters\n",
    "temperature = 0.6\n",
    "max_tokens = 1000  # Note: variable name should match parameter name\n",
    "model_name = \"anthropic--claude-3.5-sonnet\"\n",
    "\n",
    "# Initialize the model\n",
    "chat = ChatBedrock(\n",
    "    model_name=model_name,  # Use model_name parameter instead of model_id\n",
    "    temperature=temperature,\n",
    "    model_kwargs={\n",
    "        \"max_tokens\": max_tokens,  # For Anthropic models\n",
    "        \"top_p\": 1.0  # Default value\n",
    "    }\n",
    ")\n",
    "\n",
    "prompt = \"\"\"What is the capital of France?\"\"\"\n",
    "response = chat.invoke(prompt)\n",
    "print(response)\n"
   ]
  },
  {
   "cell_type": "code",
   "execution_count": 7,
   "metadata": {},
   "outputs": [
    {
     "name": "stdout",
     "output_type": "stream",
     "text": [
      "The capital of France is Paris.\n"
     ]
    }
   ],
   "source": [
    "print(response.content)"
   ]
  },
  {
   "cell_type": "markdown",
   "metadata": {},
   "source": [
    "## Google Vertex AI Models"
   ]
  },
  {
   "cell_type": "code",
   "execution_count": 8,
   "metadata": {},
   "outputs": [
    {
     "name": "stdout",
     "output_type": "stream",
     "text": [
      "content='Paris\\n' additional_kwargs={} response_metadata={'is_blocked': False, 'safety_ratings': [], 'usage_metadata': {'prompt_token_count': 7, 'candidates_token_count': 2, 'total_token_count': 9, 'prompt_tokens_details': [{'modality': 1, 'token_count': 7}], 'candidates_tokens_details': [{'modality': 1, 'token_count': 2}], 'cached_content_token_count': 0, 'cache_tokens_details': []}, 'finish_reason': 'STOP', 'avg_logprobs': -0.013727768324315548, 'model_name': 'gemini-1.5-pro'} id='run-1a48a988-44ab-4590-82e8-f1c2478fe672-0' usage_metadata={'input_tokens': 7, 'output_tokens': 2, 'total_tokens': 9}\n"
     ]
    }
   ],
   "source": [
    "from gen_ai_hub.proxy.langchain.google_vertexai import ChatVertexAI\n",
    "\n",
    "# Model parameters\n",
    "temperature = 0.6\n",
    "max_tokens = 1000\n",
    "model_name = \"gemini-1.5-pro\"\n",
    "\n",
    "# Initialize the model\n",
    "chat = ChatVertexAI(\n",
    "    model_name=model_name,  # Use model_name parameter instead of model_id\n",
    "    temperature=temperature,\n",
    "    max_output_tokens=max_tokens  # For Vertex AI models\n",
    ")\n",
    "prompt = \"\"\"What is the capital of France?\"\"\"\n",
    "response = chat.invoke(prompt)\n",
    "print(response)"
   ]
  },
  {
   "cell_type": "code",
   "execution_count": 9,
   "metadata": {},
   "outputs": [
    {
     "name": "stdout",
     "output_type": "stream",
     "text": [
      "Paris\n",
      "\n"
     ]
    }
   ],
   "source": [
    "print(response.content)"
   ]
  }
 ],
 "metadata": {
  "kernelspec": {
   "display_name": ".venv",
   "language": "python",
   "name": "python3"
  },
  "language_info": {
   "codemirror_mode": {
    "name": "ipython",
    "version": 3
   },
   "file_extension": ".py",
   "mimetype": "text/x-python",
   "name": "python",
   "nbconvert_exporter": "python",
   "pygments_lexer": "ipython3",
   "version": "3.12.3"
  }
 },
 "nbformat": 4,
 "nbformat_minor": 2
}
