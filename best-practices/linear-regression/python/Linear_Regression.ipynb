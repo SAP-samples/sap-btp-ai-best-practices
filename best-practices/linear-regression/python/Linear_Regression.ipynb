{
 "cells": [
  {
   "cell_type": "markdown",
   "metadata": {},
   "source": [
    "# Linear Regression\n",
    "\n",
    "We consider the California Housing dataset which is freely available in **[1]**. \n",
    "<br>\n",
    "<br>\n",
    "### Demo scenario - Prediction of housing prices for the state of California\n",
    "* Configuring the **Python machine learning client for SAP HANA (hana-ml)** and connecting to **SAP HANA Cloud**\n",
    "* Accessing and visually exploring SAP HANA data using **HANA dataframes** in Python\n",
    "* Training a **regression model** for the housing prices using **hana-ml Predictive Analysis Library (PAL) functions**\n",
    "* Performing **Model Evaluation** to show the model accuracy obtained\n",
    "<br>\n",
    "<br>\n",
    "#### References\n",
    "[1] [California Housing dataset](https://scikit-learn.org/stable/modules/generated/sklearn.datasets.fetch_california_housing.html)"
   ]
  },
  {
   "cell_type": "markdown",
   "metadata": {},
   "source": [
    "## Environment setup and preparation\n",
    "\n",
    "The following cell loads / **imports** diverse modules needed for the current Demo. As you may know a module can be considered to be the same as a **code library**."
   ]
  },
  {
   "cell_type": "markdown",
   "metadata": {},
   "source": [
    "### Python packages for SAP HANA"
   ]
  },
  {
   "cell_type": "code",
   "execution_count": 1,
   "metadata": {},
   "outputs": [
    {
     "name": "stdout",
     "output_type": "stream",
     "text": [
      "2.24.25042500\n"
     ]
    }
   ],
   "source": [
    "#import hana database client for Python\n",
    "from hdbcli import dbapi\n",
    "\n",
    "#import hana-ml package \n",
    "import hana_ml\n",
    "print (hana_ml.__version__)"
   ]
  },
  {
   "cell_type": "code",
   "execution_count": 2,
   "metadata": {},
   "outputs": [],
   "source": [
    "#importing other packages used\n",
    "import pandas as pd\n",
    "import matplotlib.pyplot as plt\n",
    "import time\n",
    "import numpy as np\n",
    "from dotenv import load_dotenv\n",
    "load_dotenv()\n",
    "import os"
   ]
  },
  {
   "cell_type": "code",
   "execution_count": 3,
   "metadata": {},
   "outputs": [
    {
     "data": {
      "text/plain": [
       "True"
      ]
     },
     "execution_count": 3,
     "metadata": {},
     "output_type": "execute_result"
    }
   ],
   "source": [
    "import hana_ml.dataframe as dataframe\n",
    "\n",
    "hana_address = os.getenv('hana_address', \"<your_hana_address>\")\n",
    "hana_port = int(os.getenv('hana_port', 443)) # Use int() for port\n",
    "hana_user = os.getenv('hana_user', \"<your_hana_user>\")\n",
    "hana_password = os.getenv('hana_password', \"<your_hana_password>\")\n",
    "hana_encrypt = os.getenv('hana_encrypt', 'True').lower() == 'true' # Handle boolean conversion\n",
    "hana_schema = os.getenv('HANA_SCHEMA', 'AICOE') # Default schema or your specific one\n",
    "\n",
    "\n",
    "conn = dataframe.ConnectionContext(address=hana_address,\n",
    "                                   port=hana_port,\n",
    "                                   user=hana_user,  \n",
    "                                   password=hana_password,\n",
    "                                   encrypt=True, sslValidateCertificate=False,\n",
    "                                   current_schema=hana_schema)\n",
    "conn.connection.isconnected()"
   ]
  },
  {
   "cell_type": "markdown",
   "metadata": {},
   "source": [
    "## Data handling using SAP HANA dataframes\n",
    "\n",
    "The California Housing dataset is loaded into SAP HANA Cloud as indicaded below. It is freely available in [1], and it has also been placed in the current directory. \n",
    "\n",
    "The target variable is the median house value for California districts, expressed in hundreds of thousands of dollars. The target variable has been renamed as 'Target' as shown below.\n",
    "\n",
    "#### References\n",
    "\n",
    "[1] [California Housing dataset](https://scikit-learn.org/stable/modules/generated/sklearn.datasets.fetch_california_housing.html)"
   ]
  },
  {
   "cell_type": "code",
   "execution_count": 4,
   "metadata": {},
   "outputs": [
    {
     "data": {
      "application/vnd.microsoft.datawrangler.viewer.v0+json": {
       "columns": [
        {
         "name": "index",
         "rawType": "int64",
         "type": "integer"
        },
        {
         "name": "MedInc",
         "rawType": "float64",
         "type": "float"
        },
        {
         "name": "HouseAge",
         "rawType": "int64",
         "type": "integer"
        },
        {
         "name": "AveRooms",
         "rawType": "float64",
         "type": "float"
        },
        {
         "name": "AveBedrms",
         "rawType": "float64",
         "type": "float"
        },
        {
         "name": "Population",
         "rawType": "int64",
         "type": "integer"
        },
        {
         "name": "AveOccup",
         "rawType": "float64",
         "type": "float"
        },
        {
         "name": "Latitude",
         "rawType": "float64",
         "type": "float"
        },
        {
         "name": "Longitude",
         "rawType": "float64",
         "type": "float"
        },
        {
         "name": "Target",
         "rawType": "float64",
         "type": "float"
        }
       ],
       "ref": "119411c1-0c79-45bb-95e4-32b5b34002a5",
       "rows": [
        [
         "0",
         "1.2434",
         "52",
         "2.929411764705882",
         "0.9176470588235294",
         "396",
         "4.658823529411765",
         "37.8",
         "-122.27",
         "5.00001"
        ],
        [
         "1",
         "1.1696",
         "52",
         "2.436",
         "0.944",
         "1349",
         "5.396",
         "37.87",
         "-122.25",
         "5.00001"
        ],
        [
         "2",
         "7.8521",
         "52",
         "7.794392523364486",
         "1.0514018691588785",
         "517",
         "2.4158878504672896",
         "37.86",
         "-122.24",
         "5.00001"
        ],
        [
         "3",
         "9.3959",
         "52",
         "7.512096774193548",
         "0.9556451612903226",
         "1366",
         "2.754032258064516",
         "37.85",
         "-122.24",
         "5.00001"
        ],
        [
         "4",
         "7.8772",
         "52",
         "8.282548476454293",
         "1.049861495844875",
         "947",
         "2.623268698060942",
         "37.83",
         "-122.23",
         "5.00001"
        ]
       ],
       "shape": {
        "columns": 9,
        "rows": 5
       }
      },
      "text/html": [
       "<div>\n",
       "<style scoped>\n",
       "    .dataframe tbody tr th:only-of-type {\n",
       "        vertical-align: middle;\n",
       "    }\n",
       "\n",
       "    .dataframe tbody tr th {\n",
       "        vertical-align: top;\n",
       "    }\n",
       "\n",
       "    .dataframe thead th {\n",
       "        text-align: right;\n",
       "    }\n",
       "</style>\n",
       "<table border=\"1\" class=\"dataframe\">\n",
       "  <thead>\n",
       "    <tr style=\"text-align: right;\">\n",
       "      <th></th>\n",
       "      <th>MedInc</th>\n",
       "      <th>HouseAge</th>\n",
       "      <th>AveRooms</th>\n",
       "      <th>AveBedrms</th>\n",
       "      <th>Population</th>\n",
       "      <th>AveOccup</th>\n",
       "      <th>Latitude</th>\n",
       "      <th>Longitude</th>\n",
       "      <th>Target</th>\n",
       "    </tr>\n",
       "  </thead>\n",
       "  <tbody>\n",
       "    <tr>\n",
       "      <th>0</th>\n",
       "      <td>1.2434</td>\n",
       "      <td>52</td>\n",
       "      <td>2.929412</td>\n",
       "      <td>0.917647</td>\n",
       "      <td>396</td>\n",
       "      <td>4.658824</td>\n",
       "      <td>37.80</td>\n",
       "      <td>-122.27</td>\n",
       "      <td>5.00001</td>\n",
       "    </tr>\n",
       "    <tr>\n",
       "      <th>1</th>\n",
       "      <td>1.1696</td>\n",
       "      <td>52</td>\n",
       "      <td>2.436000</td>\n",
       "      <td>0.944000</td>\n",
       "      <td>1349</td>\n",
       "      <td>5.396000</td>\n",
       "      <td>37.87</td>\n",
       "      <td>-122.25</td>\n",
       "      <td>5.00001</td>\n",
       "    </tr>\n",
       "    <tr>\n",
       "      <th>2</th>\n",
       "      <td>7.8521</td>\n",
       "      <td>52</td>\n",
       "      <td>7.794393</td>\n",
       "      <td>1.051402</td>\n",
       "      <td>517</td>\n",
       "      <td>2.415888</td>\n",
       "      <td>37.86</td>\n",
       "      <td>-122.24</td>\n",
       "      <td>5.00001</td>\n",
       "    </tr>\n",
       "    <tr>\n",
       "      <th>3</th>\n",
       "      <td>9.3959</td>\n",
       "      <td>52</td>\n",
       "      <td>7.512097</td>\n",
       "      <td>0.955645</td>\n",
       "      <td>1366</td>\n",
       "      <td>2.754032</td>\n",
       "      <td>37.85</td>\n",
       "      <td>-122.24</td>\n",
       "      <td>5.00001</td>\n",
       "    </tr>\n",
       "    <tr>\n",
       "      <th>4</th>\n",
       "      <td>7.8772</td>\n",
       "      <td>52</td>\n",
       "      <td>8.282548</td>\n",
       "      <td>1.049861</td>\n",
       "      <td>947</td>\n",
       "      <td>2.623269</td>\n",
       "      <td>37.83</td>\n",
       "      <td>-122.23</td>\n",
       "      <td>5.00001</td>\n",
       "    </tr>\n",
       "  </tbody>\n",
       "</table>\n",
       "</div>"
      ],
      "text/plain": [
       "   MedInc  HouseAge  AveRooms  AveBedrms  Population  AveOccup  Latitude  \\\n",
       "0  1.2434        52  2.929412   0.917647         396  4.658824     37.80   \n",
       "1  1.1696        52  2.436000   0.944000        1349  5.396000     37.87   \n",
       "2  7.8521        52  7.794393   1.051402         517  2.415888     37.86   \n",
       "3  9.3959        52  7.512097   0.955645        1366  2.754032     37.85   \n",
       "4  7.8772        52  8.282548   1.049861         947  2.623269     37.83   \n",
       "\n",
       "   Longitude   Target  \n",
       "0    -122.27  5.00001  \n",
       "1    -122.25  5.00001  \n",
       "2    -122.24  5.00001  \n",
       "3    -122.24  5.00001  \n",
       "4    -122.23  5.00001  "
      ]
     },
     "execution_count": 4,
     "metadata": {},
     "output_type": "execute_result"
    }
   ],
   "source": [
    "df_data = pd.read_csv(\"./california_housing_dataset.csv\", sep = ',')\n",
    "df_data.head(5)"
   ]
  },
  {
   "cell_type": "markdown",
   "metadata": {},
   "source": [
    "The SAP function hana_ml.dataframe.create_dataframe_from_pandas() creates a SAP HANA DataFrame from a Pandas DataFrame and creates a table in SAP HANA, i.e., table_name = 'california_housing'. "
   ]
  },
  {
   "cell_type": "code",
   "execution_count": 5,
   "metadata": {},
   "outputs": [
    {
     "name": "stderr",
     "output_type": "stream",
     "text": [
      "100%|██████████| 1/1 [00:00<00:00,  8.02it/s]\n"
     ]
    },
    {
     "data": {
      "application/vnd.microsoft.datawrangler.viewer.v0+json": {
       "columns": [
        {
         "name": "index",
         "rawType": "int64",
         "type": "integer"
        },
        {
         "name": "MedInc",
         "rawType": "float64",
         "type": "float"
        },
        {
         "name": "HouseAge",
         "rawType": "int64",
         "type": "integer"
        },
        {
         "name": "AveRooms",
         "rawType": "float64",
         "type": "float"
        },
        {
         "name": "AveBedrms",
         "rawType": "float64",
         "type": "float"
        },
        {
         "name": "Population",
         "rawType": "int64",
         "type": "integer"
        },
        {
         "name": "AveOccup",
         "rawType": "float64",
         "type": "float"
        },
        {
         "name": "Latitude",
         "rawType": "float64",
         "type": "float"
        },
        {
         "name": "Longitude",
         "rawType": "float64",
         "type": "float"
        },
        {
         "name": "Target",
         "rawType": "float64",
         "type": "float"
        }
       ],
       "ref": "a53fed3e-12c4-4a11-8e33-e005724c1b66",
       "rows": [
        [
         "0",
         "1.2434",
         "52",
         "2.929411764705882",
         "0.9176470588235294",
         "396",
         "4.658823529411765",
         "37.8",
         "-122.27",
         "5.00001"
        ],
        [
         "1",
         "1.1696",
         "52",
         "2.436",
         "0.944",
         "1349",
         "5.396",
         "37.87",
         "-122.25",
         "5.00001"
        ],
        [
         "2",
         "7.8521",
         "52",
         "7.794392523364486",
         "1.0514018691588785",
         "517",
         "2.4158878504672896",
         "37.86",
         "-122.24",
         "5.00001"
        ],
        [
         "3",
         "9.3959",
         "52",
         "7.512096774193548",
         "0.9556451612903226",
         "1366",
         "2.754032258064516",
         "37.85",
         "-122.24",
         "5.00001"
        ],
        [
         "4",
         "7.8772",
         "52",
         "8.282548476454293",
         "1.049861495844875",
         "947",
         "2.623268698060942",
         "37.83",
         "-122.23",
         "5.00001"
        ]
       ],
       "shape": {
        "columns": 9,
        "rows": 5
       }
      },
      "text/html": [
       "<div>\n",
       "<style scoped>\n",
       "    .dataframe tbody tr th:only-of-type {\n",
       "        vertical-align: middle;\n",
       "    }\n",
       "\n",
       "    .dataframe tbody tr th {\n",
       "        vertical-align: top;\n",
       "    }\n",
       "\n",
       "    .dataframe thead th {\n",
       "        text-align: right;\n",
       "    }\n",
       "</style>\n",
       "<table border=\"1\" class=\"dataframe\">\n",
       "  <thead>\n",
       "    <tr style=\"text-align: right;\">\n",
       "      <th></th>\n",
       "      <th>MedInc</th>\n",
       "      <th>HouseAge</th>\n",
       "      <th>AveRooms</th>\n",
       "      <th>AveBedrms</th>\n",
       "      <th>Population</th>\n",
       "      <th>AveOccup</th>\n",
       "      <th>Latitude</th>\n",
       "      <th>Longitude</th>\n",
       "      <th>Target</th>\n",
       "    </tr>\n",
       "  </thead>\n",
       "  <tbody>\n",
       "    <tr>\n",
       "      <th>0</th>\n",
       "      <td>1.2434</td>\n",
       "      <td>52</td>\n",
       "      <td>2.929412</td>\n",
       "      <td>0.917647</td>\n",
       "      <td>396</td>\n",
       "      <td>4.658824</td>\n",
       "      <td>37.80</td>\n",
       "      <td>-122.27</td>\n",
       "      <td>5.00001</td>\n",
       "    </tr>\n",
       "    <tr>\n",
       "      <th>1</th>\n",
       "      <td>1.1696</td>\n",
       "      <td>52</td>\n",
       "      <td>2.436000</td>\n",
       "      <td>0.944000</td>\n",
       "      <td>1349</td>\n",
       "      <td>5.396000</td>\n",
       "      <td>37.87</td>\n",
       "      <td>-122.25</td>\n",
       "      <td>5.00001</td>\n",
       "    </tr>\n",
       "    <tr>\n",
       "      <th>2</th>\n",
       "      <td>7.8521</td>\n",
       "      <td>52</td>\n",
       "      <td>7.794393</td>\n",
       "      <td>1.051402</td>\n",
       "      <td>517</td>\n",
       "      <td>2.415888</td>\n",
       "      <td>37.86</td>\n",
       "      <td>-122.24</td>\n",
       "      <td>5.00001</td>\n",
       "    </tr>\n",
       "    <tr>\n",
       "      <th>3</th>\n",
       "      <td>9.3959</td>\n",
       "      <td>52</td>\n",
       "      <td>7.512097</td>\n",
       "      <td>0.955645</td>\n",
       "      <td>1366</td>\n",
       "      <td>2.754032</td>\n",
       "      <td>37.85</td>\n",
       "      <td>-122.24</td>\n",
       "      <td>5.00001</td>\n",
       "    </tr>\n",
       "    <tr>\n",
       "      <th>4</th>\n",
       "      <td>7.8772</td>\n",
       "      <td>52</td>\n",
       "      <td>8.282548</td>\n",
       "      <td>1.049861</td>\n",
       "      <td>947</td>\n",
       "      <td>2.623269</td>\n",
       "      <td>37.83</td>\n",
       "      <td>-122.23</td>\n",
       "      <td>5.00001</td>\n",
       "    </tr>\n",
       "  </tbody>\n",
       "</table>\n",
       "</div>"
      ],
      "text/plain": [
       "   MedInc  HouseAge  AveRooms  AveBedrms  Population  AveOccup  Latitude  \\\n",
       "0  1.2434        52  2.929412   0.917647         396  4.658824     37.80   \n",
       "1  1.1696        52  2.436000   0.944000        1349  5.396000     37.87   \n",
       "2  7.8521        52  7.794393   1.051402         517  2.415888     37.86   \n",
       "3  9.3959        52  7.512097   0.955645        1366  2.754032     37.85   \n",
       "4  7.8772        52  8.282548   1.049861         947  2.623269     37.83   \n",
       "\n",
       "   Longitude   Target  \n",
       "0    -122.27  5.00001  \n",
       "1    -122.25  5.00001  \n",
       "2    -122.24  5.00001  \n",
       "3    -122.24  5.00001  \n",
       "4    -122.23  5.00001  "
      ]
     },
     "metadata": {},
     "output_type": "display_data"
    }
   ],
   "source": [
    "TABLE_NAME = 'CALIFORNIA_HOUSING'\n",
    "df_remote = dataframe.create_dataframe_from_pandas(connection_context = conn, \n",
    "                                                   pandas_df = df_data, \n",
    "                                                   table_name = TABLE_NAME,\n",
    "                                                   force = True,\n",
    "                                                   replace = False)\n",
    "display(df_remote.head(5).collect())"
   ]
  },
  {
   "cell_type": "markdown",
   "metadata": {},
   "source": [
    "ConnectionContext.table() returns a DataFrame that represents the specified table, i.e., \"california_housing\", and its associated schema. Then, we display the SQL query backing the dataframe."
   ]
  },
  {
   "cell_type": "code",
   "execution_count": 6,
   "metadata": {},
   "outputs": [
    {
     "name": "stdout",
     "output_type": "stream",
     "text": [
      "SELECT * FROM \"AICOE\".\"CALIFORNIA_HOUSING\"\n"
     ]
    }
   ],
   "source": [
    "hdf = conn.table(TABLE_NAME, schema=hana_schema)\n",
    "print(hdf.select_statement)"
   ]
  },
  {
   "cell_type": "code",
   "execution_count": 7,
   "metadata": {},
   "outputs": [
    {
     "data": {
      "text/plain": [
       "['MedInc',\n",
       " 'HouseAge',\n",
       " 'AveRooms',\n",
       " 'AveBedrms',\n",
       " 'Population',\n",
       " 'AveOccup',\n",
       " 'Latitude',\n",
       " 'Longitude',\n",
       " 'Target']"
      ]
     },
     "execution_count": 7,
     "metadata": {},
     "output_type": "execute_result"
    }
   ],
   "source": [
    "hdf.columns"
   ]
  },
  {
   "cell_type": "code",
   "execution_count": 8,
   "metadata": {},
   "outputs": [
    {
     "data": {
      "text/plain": [
       "[('MedInc', 'DOUBLE', 15, 15, 15, 0),\n",
       " ('HouseAge', 'INT', 10, 10, 10, 0),\n",
       " ('AveRooms', 'DOUBLE', 15, 15, 15, 0),\n",
       " ('AveBedrms', 'DOUBLE', 15, 15, 15, 0),\n",
       " ('Population', 'INT', 10, 10, 10, 0),\n",
       " ('AveOccup', 'DOUBLE', 15, 15, 15, 0),\n",
       " ('Latitude', 'DOUBLE', 15, 15, 15, 0),\n",
       " ('Longitude', 'DOUBLE', 15, 15, 15, 0),\n",
       " ('Target', 'DOUBLE', 15, 15, 15, 0)]"
      ]
     },
     "execution_count": 8,
     "metadata": {},
     "output_type": "execute_result"
    }
   ],
   "source": [
    "hdf.dtypes()"
   ]
  },
  {
   "cell_type": "code",
   "execution_count": 9,
   "metadata": {},
   "outputs": [
    {
     "name": "stdout",
     "output_type": "stream",
     "text": [
      "   MedInc  HouseAge  AveRooms  AveBedrms  Population  AveOccup  Latitude  \\\n",
      "0  1.2434        52  2.929412   0.917647         396  4.658824     37.80   \n",
      "1  1.1696        52  2.436000   0.944000        1349  5.396000     37.87   \n",
      "2  7.8521        52  7.794393   1.051402         517  2.415888     37.86   \n",
      "3  9.3959        52  7.512097   0.955645        1366  2.754032     37.85   \n",
      "4  7.8772        52  8.282548   1.049861         947  2.623269     37.83   \n",
      "\n",
      "   Longitude   Target  \n",
      "0    -122.27  5.00001  \n",
      "1    -122.25  5.00001  \n",
      "2    -122.24  5.00001  \n",
      "3    -122.24  5.00001  \n",
      "4    -122.23  5.00001  \n"
     ]
    }
   ],
   "source": [
    "#Only the use of the collect method, transfers data or result sets from SAP HANA to Python \n",
    "print(hdf.head(5).collect())"
   ]
  },
  {
   "cell_type": "markdown",
   "metadata": {},
   "source": [
    "The SAP class method DataFrame.describe() returns a DataFrame that contains various statistics of data attributes."
   ]
  },
  {
   "cell_type": "code",
   "execution_count": 10,
   "metadata": {},
   "outputs": [
    {
     "name": "stdout",
     "output_type": "stream",
     "text": [
      "       column  count  unique  nulls         mean         std         min  \\\n",
      "0      MedInc   1000     935      0     7.571841    3.355430    0.499900   \n",
      "1    HouseAge   1000      51      0    34.581000   12.687332    2.000000   \n",
      "2    AveRooms   1000     993      0     6.702891    4.604450    1.824719   \n",
      "3   AveBedrms   1000     936      0     1.096594    0.787550    0.500000   \n",
      "4  Population   1000     764      0  1104.260000  775.770108   13.000000   \n",
      "5    AveOccup   1000     984      0     2.575271    1.464681    1.304534   \n",
      "6    Latitude   1000     189      0    35.164800    1.767507   32.680000   \n",
      "7   Longitude   1000     218      0  -119.623480    1.931527 -122.640000   \n",
      "8      Target   1000      59      0     4.822741    0.754468    0.806000   \n",
      "\n",
      "           max      median  25_percent_cont  25_percent_disc  50_percent_cont  \\\n",
      "0    15.000100    7.420200         4.858400         4.848200         7.420200   \n",
      "1    52.000000   35.000000        25.000000        25.000000        35.000000   \n",
      "2   141.909091    6.763228         5.337678         5.330409         6.763228   \n",
      "3    25.636364    1.051415         1.008463         1.008427         1.051415   \n",
      "4  7431.000000  929.000000       662.000000       662.000000       928.500000   \n",
      "5    41.214286    2.531753         2.108156         2.103789         2.531753   \n",
      "6    38.910000   34.110000        33.950000        33.950000        34.110000   \n",
      "7  -116.430000 -118.440000      -122.110000      -122.110000      -118.440000   \n",
      "8     5.000010    5.000010         5.000010         5.000010         5.000010   \n",
      "\n",
      "   50_percent_disc  75_percent_cont  75_percent_disc  \n",
      "0         7.418500        10.030025        10.028500  \n",
      "1        35.000000        45.000000        45.000000  \n",
      "2         6.760870         7.812574         7.811143  \n",
      "3         1.051402         1.102542         1.102450  \n",
      "4       928.000000      1325.250000      1325.000000  \n",
      "5         2.531507         2.845027         2.844884  \n",
      "6        34.110000        37.382500        37.380000  \n",
      "7      -118.440000      -118.310000      -118.310000  \n",
      "8         5.000010         5.000010         5.000010  \n"
     ]
    }
   ],
   "source": [
    "print(hdf.describe().collect())"
   ]
  },
  {
   "cell_type": "markdown",
   "metadata": {},
   "source": [
    "### SAP HANA Dataframe filtering\n",
    "\n",
    "We are able to select rows that match given condition(s).\n",
    "\n",
    "For instance, the example below selects the subset of rows whose Population is greater than value 300. We then display the first five rows, and confirm the \"Population\" values are all greater than 300."
   ]
  },
  {
   "cell_type": "code",
   "execution_count": 11,
   "metadata": {},
   "outputs": [
    {
     "name": "stdout",
     "output_type": "stream",
     "text": [
      "SELECT * FROM \"AICOE\".\"CALIFORNIA_HOUSING\"\n",
      "SELECT * FROM (SELECT * FROM \"AICOE\".\"CALIFORNIA_HOUSING\") AS \"DT_5\" WHERE \"Population\">300\n"
     ]
    }
   ],
   "source": [
    "hdf_filter=hdf.filter('\"Population\">300')\n",
    "\n",
    "print(hdf.select_statement)\n",
    "print(hdf_filter.select_statement)"
   ]
  },
  {
   "cell_type": "code",
   "execution_count": 12,
   "metadata": {},
   "outputs": [
    {
     "name": "stdout",
     "output_type": "stream",
     "text": [
      "   MedInc  HouseAge  AveRooms  AveBedrms  Population  AveOccup  Latitude  \\\n",
      "0  1.2434        52  2.929412   0.917647         396  4.658824     37.80   \n",
      "1  1.1696        52  2.436000   0.944000        1349  5.396000     37.87   \n",
      "2  7.8521        52  7.794393   1.051402         517  2.415888     37.86   \n",
      "3  9.3959        52  7.512097   0.955645        1366  2.754032     37.85   \n",
      "4  7.8772        52  8.282548   1.049861         947  2.623269     37.83   \n",
      "\n",
      "   Longitude   Target  \n",
      "0    -122.27  5.00001  \n",
      "1    -122.25  5.00001  \n",
      "2    -122.24  5.00001  \n",
      "3    -122.24  5.00001  \n",
      "4    -122.23  5.00001  \n"
     ]
    }
   ],
   "source": [
    "print(hdf_filter.head(5).collect())"
   ]
  },
  {
   "cell_type": "markdown",
   "metadata": {},
   "source": [
    "### Visual data exploration using SAP HANA DataFrame\n",
    "\n",
    "We use the HANA capabilities **[1]** to visualize a distribution plot for the SAP HANA DataFrame column named \"Population\".\n",
    "<br>\n",
    "\n",
    "#### References\n",
    "\n",
    "[1] [SAP hana_ml.visualizers.eda - EDAVisualizer.distribution_plot()](https://help.sap.com/doc/1d0ebfe5e8dd44d09606814d83308d4b/2.0.06/en-US/hana_ml.visualizers.html#hana_ml.visualizers.eda.EDAVisualizer.distribution_plot)\n"
   ]
  },
  {
   "cell_type": "code",
   "execution_count": 13,
   "metadata": {},
   "outputs": [
    {
     "name": "stderr",
     "output_type": "stream",
     "text": [
      "ImportError: cannot import name 'display' from 'IPython.core.display' (/Users/I760054/Documents/programs/Best Practices/sap-btp-ai-best-practices/.venv/lib/python3.12/site-packages/IPython/core/display.py)\n"
     ]
    },
    {
     "data": {
      "application/vnd.plotly.v1+json": {
       "config": {
        "plotlyServerURL": "https://plot.ly"
       },
       "data": [
        {
         "type": "bar",
         "x": {
          "bdata": "AAAAAAAAAAAtsp3vp25fQC2yne+nbm9AokW28/2Sd0Atsp3vp25/QFyPwvUopYNAokW28/2Sh0Dn+6nx0oCLQC2yne+nbo9AObTIdj6ukUBcj8L1KKWTQH9qvHQTnJVAokW28/2Sl0DFILBy6ImZQOf7qfHSgJtACtejcL13nUAtsp3vp26fQKjGSzfJsqBAObTIdj6uoUDLoUW2s6miQFyPwvUopaNA7nw/NZ6gpEB/arx0E5ylQBBYObSIl6ZAokW28/2Sp0AzMzMzc46oQMUgsHLoialAVg4tsl2FqkDn+6nx0oCrQHnpJjFIfKxACtejcL13rUCcxCCwMnOuQC2yne+nbq9A30+Nlw41sECoxks3ybKwQHE9CteDMLFAObTIdj6usUACK4cW+SuyQMuhRbazqbJAkxgEVm4ns0Bcj8L1KKWzQCUGgZXjIrRA7nw/NZ6gtEC28/3UWB61QH9qvHQTnLVASOF6FM4ZtkAQWDm0iJe2QNnO91NDFbdAokW28/2St0BqvHSTuBC4QDMzMzNzjrhA/Knx0i0MuUDFILBy6Im5QI2XbhKjB7pAVg4tsl2FukAfhetRGAO7QOf7qfHSgLtAsHJokY3+u0B56SYxSHy8QEJg5dAC+rxA",
          "dtype": "f8"
         },
         "y": {
          "bdata": "ERcjO1d0e25EUjgrLRIRDg0IBQYJBgUGAgMBAwQCAgEBAQEBAQEAAAABAAEAAAAAAAEAAAAAAQAAAAAB",
          "dtype": "i1"
         }
        }
       ],
       "layout": {
        "annotations": [
         {
          "bgcolor": "white",
          "bordercolor": "black",
          "borderwidth": 1,
          "showarrow": false,
          "text": "Skewness: 2.78",
          "x": 0.9,
          "xref": "paper",
          "y": 0.95,
          "yref": "paper"
         }
        ],
        "height": 400,
        "template": {
         "data": {
          "bar": [
           {
            "error_x": {
             "color": "#2a3f5f"
            },
            "error_y": {
             "color": "#2a3f5f"
            },
            "marker": {
             "line": {
              "color": "#E5ECF6",
              "width": 0.5
             },
             "pattern": {
              "fillmode": "overlay",
              "size": 10,
              "solidity": 0.2
             }
            },
            "type": "bar"
           }
          ],
          "barpolar": [
           {
            "marker": {
             "line": {
              "color": "#E5ECF6",
              "width": 0.5
             },
             "pattern": {
              "fillmode": "overlay",
              "size": 10,
              "solidity": 0.2
             }
            },
            "type": "barpolar"
           }
          ],
          "carpet": [
           {
            "aaxis": {
             "endlinecolor": "#2a3f5f",
             "gridcolor": "white",
             "linecolor": "white",
             "minorgridcolor": "white",
             "startlinecolor": "#2a3f5f"
            },
            "baxis": {
             "endlinecolor": "#2a3f5f",
             "gridcolor": "white",
             "linecolor": "white",
             "minorgridcolor": "white",
             "startlinecolor": "#2a3f5f"
            },
            "type": "carpet"
           }
          ],
          "choropleth": [
           {
            "colorbar": {
             "outlinewidth": 0,
             "ticks": ""
            },
            "type": "choropleth"
           }
          ],
          "contour": [
           {
            "colorbar": {
             "outlinewidth": 0,
             "ticks": ""
            },
            "colorscale": [
             [
              0,
              "#0d0887"
             ],
             [
              0.1111111111111111,
              "#46039f"
             ],
             [
              0.2222222222222222,
              "#7201a8"
             ],
             [
              0.3333333333333333,
              "#9c179e"
             ],
             [
              0.4444444444444444,
              "#bd3786"
             ],
             [
              0.5555555555555556,
              "#d8576b"
             ],
             [
              0.6666666666666666,
              "#ed7953"
             ],
             [
              0.7777777777777778,
              "#fb9f3a"
             ],
             [
              0.8888888888888888,
              "#fdca26"
             ],
             [
              1,
              "#f0f921"
             ]
            ],
            "type": "contour"
           }
          ],
          "contourcarpet": [
           {
            "colorbar": {
             "outlinewidth": 0,
             "ticks": ""
            },
            "type": "contourcarpet"
           }
          ],
          "heatmap": [
           {
            "colorbar": {
             "outlinewidth": 0,
             "ticks": ""
            },
            "colorscale": [
             [
              0,
              "#0d0887"
             ],
             [
              0.1111111111111111,
              "#46039f"
             ],
             [
              0.2222222222222222,
              "#7201a8"
             ],
             [
              0.3333333333333333,
              "#9c179e"
             ],
             [
              0.4444444444444444,
              "#bd3786"
             ],
             [
              0.5555555555555556,
              "#d8576b"
             ],
             [
              0.6666666666666666,
              "#ed7953"
             ],
             [
              0.7777777777777778,
              "#fb9f3a"
             ],
             [
              0.8888888888888888,
              "#fdca26"
             ],
             [
              1,
              "#f0f921"
             ]
            ],
            "type": "heatmap"
           }
          ],
          "histogram": [
           {
            "marker": {
             "pattern": {
              "fillmode": "overlay",
              "size": 10,
              "solidity": 0.2
             }
            },
            "type": "histogram"
           }
          ],
          "histogram2d": [
           {
            "colorbar": {
             "outlinewidth": 0,
             "ticks": ""
            },
            "colorscale": [
             [
              0,
              "#0d0887"
             ],
             [
              0.1111111111111111,
              "#46039f"
             ],
             [
              0.2222222222222222,
              "#7201a8"
             ],
             [
              0.3333333333333333,
              "#9c179e"
             ],
             [
              0.4444444444444444,
              "#bd3786"
             ],
             [
              0.5555555555555556,
              "#d8576b"
             ],
             [
              0.6666666666666666,
              "#ed7953"
             ],
             [
              0.7777777777777778,
              "#fb9f3a"
             ],
             [
              0.8888888888888888,
              "#fdca26"
             ],
             [
              1,
              "#f0f921"
             ]
            ],
            "type": "histogram2d"
           }
          ],
          "histogram2dcontour": [
           {
            "colorbar": {
             "outlinewidth": 0,
             "ticks": ""
            },
            "colorscale": [
             [
              0,
              "#0d0887"
             ],
             [
              0.1111111111111111,
              "#46039f"
             ],
             [
              0.2222222222222222,
              "#7201a8"
             ],
             [
              0.3333333333333333,
              "#9c179e"
             ],
             [
              0.4444444444444444,
              "#bd3786"
             ],
             [
              0.5555555555555556,
              "#d8576b"
             ],
             [
              0.6666666666666666,
              "#ed7953"
             ],
             [
              0.7777777777777778,
              "#fb9f3a"
             ],
             [
              0.8888888888888888,
              "#fdca26"
             ],
             [
              1,
              "#f0f921"
             ]
            ],
            "type": "histogram2dcontour"
           }
          ],
          "mesh3d": [
           {
            "colorbar": {
             "outlinewidth": 0,
             "ticks": ""
            },
            "type": "mesh3d"
           }
          ],
          "parcoords": [
           {
            "line": {
             "colorbar": {
              "outlinewidth": 0,
              "ticks": ""
             }
            },
            "type": "parcoords"
           }
          ],
          "pie": [
           {
            "automargin": true,
            "type": "pie"
           }
          ],
          "scatter": [
           {
            "fillpattern": {
             "fillmode": "overlay",
             "size": 10,
             "solidity": 0.2
            },
            "type": "scatter"
           }
          ],
          "scatter3d": [
           {
            "line": {
             "colorbar": {
              "outlinewidth": 0,
              "ticks": ""
             }
            },
            "marker": {
             "colorbar": {
              "outlinewidth": 0,
              "ticks": ""
             }
            },
            "type": "scatter3d"
           }
          ],
          "scattercarpet": [
           {
            "marker": {
             "colorbar": {
              "outlinewidth": 0,
              "ticks": ""
             }
            },
            "type": "scattercarpet"
           }
          ],
          "scattergeo": [
           {
            "marker": {
             "colorbar": {
              "outlinewidth": 0,
              "ticks": ""
             }
            },
            "type": "scattergeo"
           }
          ],
          "scattergl": [
           {
            "marker": {
             "colorbar": {
              "outlinewidth": 0,
              "ticks": ""
             }
            },
            "type": "scattergl"
           }
          ],
          "scattermap": [
           {
            "marker": {
             "colorbar": {
              "outlinewidth": 0,
              "ticks": ""
             }
            },
            "type": "scattermap"
           }
          ],
          "scattermapbox": [
           {
            "marker": {
             "colorbar": {
              "outlinewidth": 0,
              "ticks": ""
             }
            },
            "type": "scattermapbox"
           }
          ],
          "scatterpolar": [
           {
            "marker": {
             "colorbar": {
              "outlinewidth": 0,
              "ticks": ""
             }
            },
            "type": "scatterpolar"
           }
          ],
          "scatterpolargl": [
           {
            "marker": {
             "colorbar": {
              "outlinewidth": 0,
              "ticks": ""
             }
            },
            "type": "scatterpolargl"
           }
          ],
          "scatterternary": [
           {
            "marker": {
             "colorbar": {
              "outlinewidth": 0,
              "ticks": ""
             }
            },
            "type": "scatterternary"
           }
          ],
          "surface": [
           {
            "colorbar": {
             "outlinewidth": 0,
             "ticks": ""
            },
            "colorscale": [
             [
              0,
              "#0d0887"
             ],
             [
              0.1111111111111111,
              "#46039f"
             ],
             [
              0.2222222222222222,
              "#7201a8"
             ],
             [
              0.3333333333333333,
              "#9c179e"
             ],
             [
              0.4444444444444444,
              "#bd3786"
             ],
             [
              0.5555555555555556,
              "#d8576b"
             ],
             [
              0.6666666666666666,
              "#ed7953"
             ],
             [
              0.7777777777777778,
              "#fb9f3a"
             ],
             [
              0.8888888888888888,
              "#fdca26"
             ],
             [
              1,
              "#f0f921"
             ]
            ],
            "type": "surface"
           }
          ],
          "table": [
           {
            "cells": {
             "fill": {
              "color": "#EBF0F8"
             },
             "line": {
              "color": "white"
             }
            },
            "header": {
             "fill": {
              "color": "#C8D4E3"
             },
             "line": {
              "color": "white"
             }
            },
            "type": "table"
           }
          ]
         },
         "layout": {
          "annotationdefaults": {
           "arrowcolor": "#2a3f5f",
           "arrowhead": 0,
           "arrowwidth": 1
          },
          "autotypenumbers": "strict",
          "coloraxis": {
           "colorbar": {
            "outlinewidth": 0,
            "ticks": ""
           }
          },
          "colorscale": {
           "diverging": [
            [
             0,
             "#8e0152"
            ],
            [
             0.1,
             "#c51b7d"
            ],
            [
             0.2,
             "#de77ae"
            ],
            [
             0.3,
             "#f1b6da"
            ],
            [
             0.4,
             "#fde0ef"
            ],
            [
             0.5,
             "#f7f7f7"
            ],
            [
             0.6,
             "#e6f5d0"
            ],
            [
             0.7,
             "#b8e186"
            ],
            [
             0.8,
             "#7fbc41"
            ],
            [
             0.9,
             "#4d9221"
            ],
            [
             1,
             "#276419"
            ]
           ],
           "sequential": [
            [
             0,
             "#0d0887"
            ],
            [
             0.1111111111111111,
             "#46039f"
            ],
            [
             0.2222222222222222,
             "#7201a8"
            ],
            [
             0.3333333333333333,
             "#9c179e"
            ],
            [
             0.4444444444444444,
             "#bd3786"
            ],
            [
             0.5555555555555556,
             "#d8576b"
            ],
            [
             0.6666666666666666,
             "#ed7953"
            ],
            [
             0.7777777777777778,
             "#fb9f3a"
            ],
            [
             0.8888888888888888,
             "#fdca26"
            ],
            [
             1,
             "#f0f921"
            ]
           ],
           "sequentialminus": [
            [
             0,
             "#0d0887"
            ],
            [
             0.1111111111111111,
             "#46039f"
            ],
            [
             0.2222222222222222,
             "#7201a8"
            ],
            [
             0.3333333333333333,
             "#9c179e"
            ],
            [
             0.4444444444444444,
             "#bd3786"
            ],
            [
             0.5555555555555556,
             "#d8576b"
            ],
            [
             0.6666666666666666,
             "#ed7953"
            ],
            [
             0.7777777777777778,
             "#fb9f3a"
            ],
            [
             0.8888888888888888,
             "#fdca26"
            ],
            [
             1,
             "#f0f921"
            ]
           ]
          },
          "colorway": [
           "#636efa",
           "#EF553B",
           "#00cc96",
           "#ab63fa",
           "#FFA15A",
           "#19d3f3",
           "#FF6692",
           "#B6E880",
           "#FF97FF",
           "#FECB52"
          ],
          "font": {
           "color": "#2a3f5f"
          },
          "geo": {
           "bgcolor": "white",
           "lakecolor": "white",
           "landcolor": "#E5ECF6",
           "showlakes": true,
           "showland": true,
           "subunitcolor": "white"
          },
          "hoverlabel": {
           "align": "left"
          },
          "hovermode": "closest",
          "mapbox": {
           "style": "light"
          },
          "paper_bgcolor": "white",
          "plot_bgcolor": "#E5ECF6",
          "polar": {
           "angularaxis": {
            "gridcolor": "white",
            "linecolor": "white",
            "ticks": ""
           },
           "bgcolor": "#E5ECF6",
           "radialaxis": {
            "gridcolor": "white",
            "linecolor": "white",
            "ticks": ""
           }
          },
          "scene": {
           "xaxis": {
            "backgroundcolor": "#E5ECF6",
            "gridcolor": "white",
            "gridwidth": 2,
            "linecolor": "white",
            "showbackground": true,
            "ticks": "",
            "zerolinecolor": "white"
           },
           "yaxis": {
            "backgroundcolor": "#E5ECF6",
            "gridcolor": "white",
            "gridwidth": 2,
            "linecolor": "white",
            "showbackground": true,
            "ticks": "",
            "zerolinecolor": "white"
           },
           "zaxis": {
            "backgroundcolor": "#E5ECF6",
            "gridcolor": "white",
            "gridwidth": 2,
            "linecolor": "white",
            "showbackground": true,
            "ticks": "",
            "zerolinecolor": "white"
           }
          },
          "shapedefaults": {
           "line": {
            "color": "#2a3f5f"
           }
          },
          "ternary": {
           "aaxis": {
            "gridcolor": "white",
            "linecolor": "white",
            "ticks": ""
           },
           "baxis": {
            "gridcolor": "white",
            "linecolor": "white",
            "ticks": ""
           },
           "bgcolor": "#E5ECF6",
           "caxis": {
            "gridcolor": "white",
            "linecolor": "white",
            "ticks": ""
           }
          },
          "title": {
           "x": 0.05
          },
          "xaxis": {
           "automargin": true,
           "gridcolor": "white",
           "linecolor": "white",
           "ticks": "",
           "title": {
            "standoff": 15
           },
           "zerolinecolor": "white",
           "zerolinewidth": 2
          },
          "yaxis": {
           "automargin": true,
           "gridcolor": "white",
           "linecolor": "white",
           "ticks": "",
           "title": {
            "standoff": 15
           },
           "zerolinecolor": "white",
           "zerolinewidth": 2
          }
         }
        },
        "title": {
         "text": "Distribution of feature: Population"
        },
        "width": 600,
        "xaxis": {
         "tickangle": 1,
         "tickfont": {
          "size": 13
         },
         "title": {
          "text": ""
         }
        },
        "yaxis": {
         "title": {
          "text": ""
         }
        }
       }
      }
     },
     "metadata": {},
     "output_type": "display_data"
    },
    {
     "name": "stdout",
     "output_type": "stream",
     "text": [
      "Time taken to do this by getting the data from the server was: 1.568s\n"
     ]
    }
   ],
   "source": [
    "#Exploratory Data Visualizations\n",
    "from hana_ml.visualizers.eda import EDAVisualizer\n",
    "\n",
    "start = time.time()\n",
    "\n",
    "eda = EDAVisualizer(enable_plotly=True)\n",
    "fig, trace, bin_data = eda.distribution_plot(data=hdf, debrief=True, \n",
    "                                             column=\"Population\", bins=60, \n",
    "                                             x_axis_fontsize=13, x_axis_rotation=1, \n",
    "                                             width=600,\n",
    "                                             title=\"Distribution of feature: Population\", \n",
    "                                             height=400)\n",
    "#fig.show()\n",
    "\n",
    "end = time.time()\n",
    "print(\"Time taken to do this by getting the data from the server was: {}s\".format(round(end-start, 3)))"
   ]
  },
  {
   "cell_type": "markdown",
   "metadata": {},
   "source": [
    "### Adding an Index to the dataset"
   ]
  },
  {
   "cell_type": "code",
   "execution_count": 14,
   "metadata": {},
   "outputs": [
    {
     "name": "stdout",
     "output_type": "stream",
     "text": [
      "   ID  MedInc  HouseAge  AveRooms  AveBedrms  Population  AveOccup  Latitude  \\\n",
      "0   1  1.2434        52  2.929412   0.917647         396  4.658824     37.80   \n",
      "1   2  1.1696        52  2.436000   0.944000        1349  5.396000     37.87   \n",
      "2   3  7.8521        52  7.794393   1.051402         517  2.415888     37.86   \n",
      "3   4  9.3959        52  7.512097   0.955645        1366  2.754032     37.85   \n",
      "4   5  7.8772        52  8.282548   1.049861         947  2.623269     37.83   \n",
      "\n",
      "   Longitude   Target  \n",
      "0    -122.27  5.00001  \n",
      "1    -122.25  5.00001  \n",
      "2    -122.24  5.00001  \n",
      "3    -122.24  5.00001  \n",
      "4    -122.23  5.00001  \n"
     ]
    }
   ],
   "source": [
    "hdf_input = hdf.add_id(id_col='ID')\n",
    "print(hdf_input.head(5).collect())"
   ]
  },
  {
   "cell_type": "markdown",
   "metadata": {},
   "source": [
    "# Train a PAL regression model for house prices\n",
    "\n",
    "The Python machine learning client for SAP HANA (hana-ml), exposes all Predictive Analysis Library (PAL) functions as well as the Automated Predictive Library (APL) functions in Python for use based on SAP HANA dataframes input data.\n",
    "\n",
    "### Partitioning the input data"
   ]
  },
  {
   "cell_type": "code",
   "execution_count": 15,
   "metadata": {},
   "outputs": [
    {
     "name": "stdout",
     "output_type": "stream",
     "text": [
      "SELECT \"ID\", \"MedInc\", \"HouseAge\", \"AveRooms\", \"AveBedrms\", \"Population\", \"AveOccup\", \"Latitude\", \"Longitude\", \"Target\" FROM (SELECT CAST(ROW_NUMBER() OVER() AS INTEGER) + 0 AS \"ID\", * FROM (SELECT * FROM \"AICOE\".\"CALIFORNIA_HOUSING\")) AS \"DT_15\"\n"
     ]
    }
   ],
   "source": [
    "# Partitioning the input data into train, test, validation sub-sets\n",
    "from hana_ml.algorithms.pal.partition import train_test_val_split\n",
    "\n",
    "regressdata_hdf=hdf_input.select('ID', 'MedInc', 'HouseAge', 'AveRooms', \n",
    "                                 'AveBedrms', 'Population', 'AveOccup', \n",
    "                                 'Latitude', 'Longitude', 'Target')\n",
    "\n",
    "train_hdf, test_hdf, val_hdf = train_test_val_split(data=regressdata_hdf,\n",
    "                                                    id_column='ID',\n",
    "                                                    random_seed=2, \n",
    "                                                    partition_method='random',\n",
    "                                                    training_percentage = 0.7,\n",
    "                                                    testing_percentage = 0.3,\n",
    "                                                    validation_percentage = 0.0)\n",
    "\n",
    "print(regressdata_hdf.select_statement)"
   ]
  },
  {
   "cell_type": "markdown",
   "metadata": {},
   "source": [
    "### Train a HybridGradientBoostingTree (HGBT) model\n",
    "\n",
    "The PAL hybrid gradient boosting tree (HGBT) algorithm **[1]**, is a HANA optimized gradient boosting tree implementation supporting mixed feature types (continuous and categorical) as input. It supports **regression** and classification scenarios.\n",
    "\n",
    "The Hybrid Gradient Boosting model for regression is trained based on the training subset as shown below.\n",
    "<br>\n",
    "<br>\n",
    "#### References\n",
    "\n",
    "[1] [SAP hana_ml.algorithms.pal package: **HybridGradientBoostingRegressor** algorithm](https://help.sap.com/doc/1d0ebfe5e8dd44d09606814d83308d4b/2.0.07/en-US/pal/algorithms/hana_ml.algorithms.pal.trees.HybridGradientBoostingRegressor.html)"
   ]
  },
  {
   "cell_type": "code",
   "execution_count": 16,
   "metadata": {},
   "outputs": [
    {
     "name": "stdout",
     "output_type": "stream",
     "text": [
      "CPU times: user 9.74 ms, sys: 5.89 ms, total: 15.6 ms\n",
      "Wall time: 963 ms\n"
     ]
    },
    {
     "data": {
      "text/plain": [
       "<hana_ml.algorithms.pal.trees.HybridGradientBoostingRegressor at 0x1295f3410>"
      ]
     },
     "execution_count": 16,
     "metadata": {},
     "output_type": "execute_result"
    }
   ],
   "source": [
    "%%time\n",
    "\n",
    "from hana_ml.algorithms.pal.trees import HybridGradientBoostingRegressor\n",
    "\n",
    "hgr = HybridGradientBoostingRegressor(\n",
    "          n_estimators = 20, split_threshold=0.75,\n",
    "          split_method = 'exact', learning_rate=0.3,\n",
    "          max_depth=2,\n",
    "          resampling_method = 'cv', fold_num=5,       \n",
    "          evaluation_metric = 'rmse', ref_metric=['mae'] )\n",
    "\n",
    "hgr.fit(train_hdf, features=['ID', 'MedInc', 'HouseAge', 'AveRooms', \n",
    "                             'AveBedrms', 'Population', 'AveOccup', \n",
    "                             'Latitude', 'Longitude'], label='Target')"
   ]
  },
  {
   "cell_type": "markdown",
   "metadata": {},
   "source": [
    "### Feature Importance\n",
    "Feature importance assigns a score to input features based on their contribution at predicting the response or dependent variable **[1]**.\n",
    "\n",
    "The higher the score for a feature, the larger influence it has on the model to predict the target variable. The importance scores are in the range of **[0, 1]**. \n",
    "\n",
    "We check the model's features importance below. \n",
    "\n",
    "For instance, we realise that the most influential feature is **MedInc** with an importance value of **~0.28**. This feature represents the median income in a block group. \"A block group is the smallest geographical unit for which the U.S. Census Bureau publishes sample data\" **[2]**.\n",
    "\n",
    "Moreover, in positions three and five we find features **Longitude** and **Latitude**, respectively. Their respective importance values are **~0.19** and **~0.04**.  \n",
    "<br>\n",
    "<br>\n",
    "#### References\n",
    "\n",
    "[1] [SAP hana_ml.algorithms.pal package: **HybridGradientBoostingRegressor** algorithm](https://help.sap.com/doc/1d0ebfe5e8dd44d09606814d83308d4b/2.0.07/en-US/pal/algorithms/hana_ml.algorithms.pal.trees.HybridGradientBoostingRegressor.html)\n",
    "\n",
    "[2] [California Housing dataset description](https://scikit-learn.org/stable/datasets/real_world.html#california-housing-dataset)"
   ]
  },
  {
   "cell_type": "code",
   "execution_count": 17,
   "metadata": {},
   "outputs": [
    {
     "data": {
      "application/vnd.microsoft.datawrangler.viewer.v0+json": {
       "columns": [
        {
         "name": "index",
         "rawType": "int64",
         "type": "integer"
        },
        {
         "name": "VARIABLE_NAME",
         "rawType": "object",
         "type": "string"
        },
        {
         "name": "IMPORTANCE",
         "rawType": "float64",
         "type": "float"
        }
       ],
       "ref": "26187952-eb52-4c45-a58a-d8ff5255fd4c",
       "rows": [
        [
         "0",
         "MedInc",
         "0.288126990396067"
        ],
        [
         "1",
         "ID",
         "0.2875918197173506"
        ],
        [
         "2",
         "Longitude",
         "0.19476213044287413"
        ],
        [
         "3",
         "AveOccup",
         "0.1561068703120974"
        ],
        [
         "4",
         "Latitude",
         "0.04706882716110092"
        ],
        [
         "5",
         "AveRooms",
         "0.01498377432543769"
        ],
        [
         "6",
         "Population",
         "0.011359587645072335"
        ],
        [
         "7",
         "HouseAge",
         "0.0"
        ],
        [
         "8",
         "AveBedrms",
         "0.0"
        ]
       ],
       "shape": {
        "columns": 2,
        "rows": 9
       }
      },
      "text/html": [
       "<div>\n",
       "<style scoped>\n",
       "    .dataframe tbody tr th:only-of-type {\n",
       "        vertical-align: middle;\n",
       "    }\n",
       "\n",
       "    .dataframe tbody tr th {\n",
       "        vertical-align: top;\n",
       "    }\n",
       "\n",
       "    .dataframe thead th {\n",
       "        text-align: right;\n",
       "    }\n",
       "</style>\n",
       "<table border=\"1\" class=\"dataframe\">\n",
       "  <thead>\n",
       "    <tr style=\"text-align: right;\">\n",
       "      <th></th>\n",
       "      <th>VARIABLE_NAME</th>\n",
       "      <th>IMPORTANCE</th>\n",
       "    </tr>\n",
       "  </thead>\n",
       "  <tbody>\n",
       "    <tr>\n",
       "      <th>0</th>\n",
       "      <td>MedInc</td>\n",
       "      <td>0.288127</td>\n",
       "    </tr>\n",
       "    <tr>\n",
       "      <th>1</th>\n",
       "      <td>ID</td>\n",
       "      <td>0.287592</td>\n",
       "    </tr>\n",
       "    <tr>\n",
       "      <th>2</th>\n",
       "      <td>Longitude</td>\n",
       "      <td>0.194762</td>\n",
       "    </tr>\n",
       "    <tr>\n",
       "      <th>3</th>\n",
       "      <td>AveOccup</td>\n",
       "      <td>0.156107</td>\n",
       "    </tr>\n",
       "    <tr>\n",
       "      <th>4</th>\n",
       "      <td>Latitude</td>\n",
       "      <td>0.047069</td>\n",
       "    </tr>\n",
       "    <tr>\n",
       "      <th>5</th>\n",
       "      <td>AveRooms</td>\n",
       "      <td>0.014984</td>\n",
       "    </tr>\n",
       "    <tr>\n",
       "      <th>6</th>\n",
       "      <td>Population</td>\n",
       "      <td>0.011360</td>\n",
       "    </tr>\n",
       "    <tr>\n",
       "      <th>7</th>\n",
       "      <td>HouseAge</td>\n",
       "      <td>0.000000</td>\n",
       "    </tr>\n",
       "    <tr>\n",
       "      <th>8</th>\n",
       "      <td>AveBedrms</td>\n",
       "      <td>0.000000</td>\n",
       "    </tr>\n",
       "  </tbody>\n",
       "</table>\n",
       "</div>"
      ],
      "text/plain": [
       "  VARIABLE_NAME  IMPORTANCE\n",
       "0        MedInc    0.288127\n",
       "1            ID    0.287592\n",
       "2     Longitude    0.194762\n",
       "3      AveOccup    0.156107\n",
       "4      Latitude    0.047069\n",
       "5      AveRooms    0.014984\n",
       "6    Population    0.011360\n",
       "7      HouseAge    0.000000\n",
       "8     AveBedrms    0.000000"
      ]
     },
     "execution_count": 17,
     "metadata": {},
     "output_type": "execute_result"
    }
   ],
   "source": [
    "hgr.feature_importances_.sort('IMPORTANCE', desc='TRUE').collect()"
   ]
  },
  {
   "cell_type": "markdown",
   "metadata": {},
   "source": [
    "### Model Evaluation\n",
    "\n",
    "The model performance metric (i.e., regression score) used to evaluate our linear regression model is the **coefficient of determination**. It is known as \"R squared\", and denoted $R^2$ **[1, 2]**.\n",
    "\n",
    "$R^2$ is basically the proportion of the variation in the response variable that is predictable from the independent variables. That is, the larger $R^2$ is, the more variability is explained by the model.\n",
    "\n",
    "Typically, $R^2$ varies from 0 to 1; however, there might be cases where negative values can be obtained, refer to **[1]** for further details.\n",
    "\n",
    "In our particular case, we achieve an $R^2$ score of **~0.77**.\n",
    "<br>\n",
    "<br>\n",
    "#### References\n",
    "\n",
    "[1] [Coefficient of determination](https://en.wikipedia.org/wiki/Coefficient_of_determination)\n",
    "\n",
    "[2] [Coefficient of Determination (R-Squared)](https://www.mathworks.com/help/stats/coefficient-of-determination-r-squared.html)\n"
   ]
  },
  {
   "cell_type": "code",
   "execution_count": 18,
   "metadata": {},
   "outputs": [
    {
     "data": {
      "text/plain": [
       "0.7764686923870653"
      ]
     },
     "execution_count": 18,
     "metadata": {},
     "output_type": "execute_result"
    }
   ],
   "source": [
    "#Computes the R2 score\n",
    "\n",
    "R2=hgr.score( test_hdf,  key='ID', \n",
    "          features=['MedInc', 'HouseAge', 'AveRooms', 'AveBedrms', \n",
    "                    'Population', 'AveOccup', 'Latitude', 'Longitude'], \n",
    "                    label='Target')\n",
    "R2"
   ]
  },
  {
   "cell_type": "markdown",
   "metadata": {},
   "source": [
    "### Improve the HGBT model with optimal parameter search\n",
    "\n",
    "We decided to search optimal parameter values for our linear regressor. **ParamSearchCV** does exhaustive or random search over specified parameter values with crossover validation (CV) **[1]**\n",
    "<br>\n",
    "<br>\n",
    "#### References\n",
    "\n",
    "[1] [SAP hana_ml.algorithms.pal package: **ParamSearchCV** algorithm](https://help.sap.com/doc/1d0ebfe5e8dd44d09606814d83308d4b/2.0.07/en-US/pal/algorithms/hana_ml.algorithms.pal.model_selection.ParamSearchCV.html#hana_ml.algorithms.pal.model_selection.ParamSearchCV)\n"
   ]
  },
  {
   "cell_type": "code",
   "execution_count": 19,
   "metadata": {},
   "outputs": [],
   "source": [
    "from hana_ml.algorithms.pal.model_selection import ParamSearchCV\n",
    "\n",
    "hgbr=HybridGradientBoostingRegressor(n_estimators=50, subsample = 0.8, col_subsample_tree=0.7)\n",
    "\n",
    "ps_hgr3=ParamSearchCV(estimator=hgbr, search_strategy='grid',\n",
    "                  param_grid={  'learning_rate': [0.05, 0.1, 0.025, 0.04, 0.01],\n",
    "                                'max_depth': [4, 5, 6, 7, 8, 10],\n",
    "                                'split_threshold': [0.1, 0.4, 0.7, 1],\n",
    "                                'min_samples_leaf': [2,3,4,5,6],\n",
    "                                'col_subsample_split': [0.2,0.4,0.6, 0.8] },\n",
    "                  train_control={\"fold_num\": 10, \"evaluation_metric\": 'rmse'},\n",
    "                  scoring='mae'\n",
    "                  )\n",
    "\n",
    "ps_hgr3.set_scoring_metric('mae')\n",
    "ps_hgr3.set_resampling_method('cv')\n",
    "ps_hgr3.fit(data=train_hdf, features=['MedInc', 'HouseAge', 'AveRooms', 'AveBedrms', 'Population', 'AveOccup', 'Latitude', 'Longitude'], \n",
    "         label='Target', key='ID')"
   ]
  },
  {
   "cell_type": "markdown",
   "metadata": {},
   "source": [
    "#### Inspecting Optimized Parameters\n",
    "\n",
    "The optmized parameters' values are shown below. \n",
    "\n",
    "The mapping between the optimized parameter names and the **HybridGradientBoostingRegressor** parameter names are the following:\n",
    "\n",
    "* MAX_DEPTH = max_depth\n",
    "* ETA = learning_rate\n",
    "* COL_SAMPLE_RATE_BYSPLIT = col_subsample_split\n",
    "* NODE_SIZE = min_samples_leaf\n",
    "* GAMMA = split_threshold\n"
   ]
  },
  {
   "cell_type": "code",
   "execution_count": 20,
   "metadata": {},
   "outputs": [
    {
     "data": {
      "application/vnd.microsoft.datawrangler.viewer.v0+json": {
       "columns": [
        {
         "name": "index",
         "rawType": "int64",
         "type": "integer"
        },
        {
         "name": "PARAM_NAME",
         "rawType": "object",
         "type": "string"
        },
        {
         "name": "INT_VALUE",
         "rawType": "float64",
         "type": "float"
        },
        {
         "name": "DOUBLE_VALUE",
         "rawType": "float64",
         "type": "float"
        },
        {
         "name": "STRING_VALUE",
         "rawType": "object",
         "type": "unknown"
        }
       ],
       "ref": "8d287a9f-e7ec-4768-92e7-9886cfdd99bb",
       "rows": [
        [
         "0",
         "MAX_DEPTH",
         "4.0",
         null,
         null
        ],
        [
         "1",
         "ETA",
         null,
         "0.1",
         null
        ],
        [
         "2",
         "COL_SAMPLE_RATE_BYSPLIT",
         null,
         "0.8",
         null
        ],
        [
         "3",
         "NODE_SIZE",
         "5.0",
         null,
         null
        ],
        [
         "4",
         "GAMMA",
         null,
         "0.4",
         null
        ]
       ],
       "shape": {
        "columns": 4,
        "rows": 5
       }
      },
      "text/html": [
       "<div>\n",
       "<style scoped>\n",
       "    .dataframe tbody tr th:only-of-type {\n",
       "        vertical-align: middle;\n",
       "    }\n",
       "\n",
       "    .dataframe tbody tr th {\n",
       "        vertical-align: top;\n",
       "    }\n",
       "\n",
       "    .dataframe thead th {\n",
       "        text-align: right;\n",
       "    }\n",
       "</style>\n",
       "<table border=\"1\" class=\"dataframe\">\n",
       "  <thead>\n",
       "    <tr style=\"text-align: right;\">\n",
       "      <th></th>\n",
       "      <th>PARAM_NAME</th>\n",
       "      <th>INT_VALUE</th>\n",
       "      <th>DOUBLE_VALUE</th>\n",
       "      <th>STRING_VALUE</th>\n",
       "    </tr>\n",
       "  </thead>\n",
       "  <tbody>\n",
       "    <tr>\n",
       "      <th>0</th>\n",
       "      <td>MAX_DEPTH</td>\n",
       "      <td>4.0</td>\n",
       "      <td>NaN</td>\n",
       "      <td>None</td>\n",
       "    </tr>\n",
       "    <tr>\n",
       "      <th>1</th>\n",
       "      <td>ETA</td>\n",
       "      <td>NaN</td>\n",
       "      <td>0.1</td>\n",
       "      <td>None</td>\n",
       "    </tr>\n",
       "    <tr>\n",
       "      <th>2</th>\n",
       "      <td>COL_SAMPLE_RATE_BYSPLIT</td>\n",
       "      <td>NaN</td>\n",
       "      <td>0.8</td>\n",
       "      <td>None</td>\n",
       "    </tr>\n",
       "    <tr>\n",
       "      <th>3</th>\n",
       "      <td>NODE_SIZE</td>\n",
       "      <td>5.0</td>\n",
       "      <td>NaN</td>\n",
       "      <td>None</td>\n",
       "    </tr>\n",
       "    <tr>\n",
       "      <th>4</th>\n",
       "      <td>GAMMA</td>\n",
       "      <td>NaN</td>\n",
       "      <td>0.4</td>\n",
       "      <td>None</td>\n",
       "    </tr>\n",
       "  </tbody>\n",
       "</table>\n",
       "</div>"
      ],
      "text/plain": [
       "                PARAM_NAME  INT_VALUE  DOUBLE_VALUE STRING_VALUE\n",
       "0                MAX_DEPTH        4.0           NaN         None\n",
       "1                      ETA        NaN           0.1         None\n",
       "2  COL_SAMPLE_RATE_BYSPLIT        NaN           0.8         None\n",
       "3                NODE_SIZE        5.0           NaN         None\n",
       "4                    GAMMA        NaN           0.4         None"
      ]
     },
     "execution_count": 20,
     "metadata": {},
     "output_type": "execute_result"
    }
   ],
   "source": [
    "ps_hgr3.estimator.selected_param_.collect()"
   ]
  },
  {
   "cell_type": "code",
   "execution_count": 21,
   "metadata": {},
   "outputs": [],
   "source": [
    "# Optimal parameter values selected\n",
    "hgbt_params = dict(n_estimators = 50, subsample = 0.8, col_subsample_tree=0.7, split_method = 'exact', fold_num=10, \n",
    "                  resampling_method = 'cv', evaluation_metric = 'rmse', ref_metric=['mae'],\n",
    "                  max_depth=10, learning_rate=0.1, col_subsample_split=0.6,  min_samples_leaf=6, split_threshold=0.1)"
   ]
  },
  {
   "cell_type": "markdown",
   "metadata": {},
   "source": [
    "### Model Re-Training\n",
    "\n",
    "Model re-training is needed to incorporate the newly optimized algorithm's parameters aiming to maximize model performance; these parameters were obtained in previous section."
   ]
  },
  {
   "cell_type": "code",
   "execution_count": 22,
   "metadata": {},
   "outputs": [
    {
     "name": "stdout",
     "output_type": "stream",
     "text": [
      "CPU times: user 8.33 ms, sys: 4.99 ms, total: 13.3 ms\n",
      "Wall time: 967 ms\n"
     ]
    },
    {
     "data": {
      "text/plain": [
       "<hana_ml.algorithms.pal.trees.HybridGradientBoostingRegressor at 0x12a937c50>"
      ]
     },
     "execution_count": 22,
     "metadata": {},
     "output_type": "execute_result"
    }
   ],
   "source": [
    "%%time\n",
    "#retrain model with optimal parameters\n",
    "hgr_optimized = HybridGradientBoostingRegressor(  **hgbt_params )\n",
    "\n",
    "hgr_optimized.fit(train_hdf, features=['MedInc', 'HouseAge', 'AveRooms', 'AveBedrms', 'Population', 'AveOccup', 'Latitude', 'Longitude'], label='Target')"
   ]
  },
  {
   "cell_type": "markdown",
   "metadata": {},
   "source": [
    "#### Model Re-Trained: Feature Importance\n",
    "Feature importance assigns a score to input features based on their contribution at predicting the response or dependent variable **[1]**.\n",
    "\n",
    "The higher the score for a feature, the larger influence it has on the model to predict the target variable. The importance scores are in the range of $[0, 1]$. \n",
    "\n",
    "We check the re-trained model's features importance below. \n",
    "\n",
    "By comparing against the initial model trained, we observe feature **MedInc** with a decreased importance value. We may remember this feature represents the median income in a block group. \"A block group is the smallest geographical unit for which the U.S. Census Bureau publishes sample data\" **[2]**.\n",
    "\n",
    "Interestingly, feature **Longitude** becomes the most influential feature from position three (initial model trained).\n",
    "\n",
    " As a matter of fact, **Longitude** becomes approximately 2 times more influential than its value delivered by the initial model trained.\n",
    "\n",
    "The enhanced model might be more accurately highlighting geographical locations have stronger influence onto the target variable than thought before. The **target** variable is the **median house value** for California districts **[2]**. \n",
    "<br>\n",
    "<br>\n",
    "#### References\n",
    "\n",
    "[1] [SAP hana_ml.algorithms.pal package: **HybridGradientBoostingRegressor** algorithm](https://help.sap.com/doc/1d0ebfe5e8dd44d09606814d83308d4b/2.0.07/en-US/pal/algorithms/hana_ml.algorithms.pal.trees.HybridGradientBoostingRegressor.html)\n",
    "\n",
    "[2] [California Housing dataset description](https://scikit-learn.org/stable/datasets/real_world.html#california-housing-dataset)"
   ]
  },
  {
   "cell_type": "code",
   "execution_count": 23,
   "metadata": {},
   "outputs": [
    {
     "data": {
      "application/vnd.microsoft.datawrangler.viewer.v0+json": {
       "columns": [
        {
         "name": "index",
         "rawType": "int64",
         "type": "integer"
        },
        {
         "name": "VARIABLE_NAME",
         "rawType": "object",
         "type": "string"
        },
        {
         "name": "IMPORTANCE",
         "rawType": "float64",
         "type": "float"
        }
       ],
       "ref": "9da4a222-3642-4214-970a-6c72dd4c32b2",
       "rows": [
        [
         "0",
         "Longitude",
         "0.4179554401001812"
        ],
        [
         "1",
         "MedInc",
         "0.21748408261292473"
        ],
        [
         "2",
         "AveOccup",
         "0.12696510277229905"
        ],
        [
         "3",
         "Latitude",
         "0.107347169834792"
        ],
        [
         "4",
         "AveRooms",
         "0.07045021922494112"
        ],
        [
         "5",
         "Population",
         "0.02754597573492317"
        ],
        [
         "6",
         "HouseAge",
         "0.022832006807289865"
        ],
        [
         "7",
         "AveBedrms",
         "0.00942000291264883"
        ]
       ],
       "shape": {
        "columns": 2,
        "rows": 8
       }
      },
      "text/html": [
       "<div>\n",
       "<style scoped>\n",
       "    .dataframe tbody tr th:only-of-type {\n",
       "        vertical-align: middle;\n",
       "    }\n",
       "\n",
       "    .dataframe tbody tr th {\n",
       "        vertical-align: top;\n",
       "    }\n",
       "\n",
       "    .dataframe thead th {\n",
       "        text-align: right;\n",
       "    }\n",
       "</style>\n",
       "<table border=\"1\" class=\"dataframe\">\n",
       "  <thead>\n",
       "    <tr style=\"text-align: right;\">\n",
       "      <th></th>\n",
       "      <th>VARIABLE_NAME</th>\n",
       "      <th>IMPORTANCE</th>\n",
       "    </tr>\n",
       "  </thead>\n",
       "  <tbody>\n",
       "    <tr>\n",
       "      <th>0</th>\n",
       "      <td>Longitude</td>\n",
       "      <td>0.417955</td>\n",
       "    </tr>\n",
       "    <tr>\n",
       "      <th>1</th>\n",
       "      <td>MedInc</td>\n",
       "      <td>0.217484</td>\n",
       "    </tr>\n",
       "    <tr>\n",
       "      <th>2</th>\n",
       "      <td>AveOccup</td>\n",
       "      <td>0.126965</td>\n",
       "    </tr>\n",
       "    <tr>\n",
       "      <th>3</th>\n",
       "      <td>Latitude</td>\n",
       "      <td>0.107347</td>\n",
       "    </tr>\n",
       "    <tr>\n",
       "      <th>4</th>\n",
       "      <td>AveRooms</td>\n",
       "      <td>0.070450</td>\n",
       "    </tr>\n",
       "    <tr>\n",
       "      <th>5</th>\n",
       "      <td>Population</td>\n",
       "      <td>0.027546</td>\n",
       "    </tr>\n",
       "    <tr>\n",
       "      <th>6</th>\n",
       "      <td>HouseAge</td>\n",
       "      <td>0.022832</td>\n",
       "    </tr>\n",
       "    <tr>\n",
       "      <th>7</th>\n",
       "      <td>AveBedrms</td>\n",
       "      <td>0.009420</td>\n",
       "    </tr>\n",
       "  </tbody>\n",
       "</table>\n",
       "</div>"
      ],
      "text/plain": [
       "  VARIABLE_NAME  IMPORTANCE\n",
       "0     Longitude    0.417955\n",
       "1        MedInc    0.217484\n",
       "2      AveOccup    0.126965\n",
       "3      Latitude    0.107347\n",
       "4      AveRooms    0.070450\n",
       "5    Population    0.027546\n",
       "6      HouseAge    0.022832\n",
       "7     AveBedrms    0.009420"
      ]
     },
     "execution_count": 23,
     "metadata": {},
     "output_type": "execute_result"
    }
   ],
   "source": [
    "hgr_optimized.feature_importances_.sort('IMPORTANCE', desc='TRUE').collect()"
   ]
  },
  {
   "cell_type": "markdown",
   "metadata": {},
   "source": [
    "#### Model Re-Trained: Model Evaluation\n",
    "\n",
    "The model performance metric (i.e., regression score) used to evaluate our linear regression model is the **coefficient of determination**. It is known as \"R squared\", and denoted $R^2$ **[1, 2]**.\n",
    "\n",
    "$R^2$ is basically the proportion of the variation in the response variable that is predictable from the independent variables. That is, the larger $R^2$ is, the more variability is explained by the model.\n",
    "\n",
    "Typically, $R^2$ varies from 0 to 1; however, there might be cases where negative values can be obtained, refer to **[1]** for further details.\n",
    "\n",
    "In our particular case, the enhanced model achieves an $R^2$ score of **~0.90** from an initial value of **~0.77**. This is an increase of **~0.13**.\n",
    "<br>\n",
    "<br>\n",
    "#### References\n",
    "\n",
    "[1] [Coefficient of determination](https://en.wikipedia.org/wiki/Coefficient_of_determination)\n",
    "\n",
    "[2] [Coefficient of Determination (R-Squared)](https://www.mathworks.com/help/stats/coefficient-of-determination-r-squared.html)\n"
   ]
  },
  {
   "cell_type": "code",
   "execution_count": 24,
   "metadata": {},
   "outputs": [
    {
     "data": {
      "text/plain": [
       "0.9123927782943512"
      ]
     },
     "execution_count": 24,
     "metadata": {},
     "output_type": "execute_result"
    }
   ],
   "source": [
    "#Computes the R2 score\n",
    "\n",
    "R2=hgr_optimized.score( test_hdf,  key='ID', \n",
    "          features=['MedInc', 'HouseAge', 'AveRooms', 'AveBedrms', 'Population', 'AveOccup', 'Latitude', 'Longitude'], \n",
    "          label='Target')\n",
    "R2"
   ]
  },
  {
   "cell_type": "markdown",
   "metadata": {},
   "source": [
    "# Cleanup\n",
    "Finally, let's remove the table we created in HANA"
   ]
  },
  {
   "cell_type": "code",
   "execution_count": 25,
   "metadata": {},
   "outputs": [
    {
     "name": "stdout",
     "output_type": "stream",
     "text": [
      "Table CALIFORNIA_HOUSING dropped successfully.\n",
      "Connection closed successfully.\n"
     ]
    }
   ],
   "source": [
    "tables_to_drop = [TABLE_NAME]\n",
    "\n",
    "for table in tables_to_drop:\n",
    "    try:\n",
    "        conn.drop_table(table)\n",
    "        print(f\"Table {table} dropped successfully.\")\n",
    "    except Exception as e:\n",
    "        print(f\"Error dropping table {table}: {e}\")\n",
    "\n",
    "# Close the connection\n",
    "try:\n",
    "    conn.close()\n",
    "    print(\"Connection closed successfully.\")\n",
    "except Exception as e:\n",
    "    print(f\"Error closing connection: {e}\")\n"
   ]
  },
  {
   "cell_type": "markdown",
   "metadata": {},
   "source": [
    "#### Summary\n",
    "\n",
    "We have achieved the following:\n",
    "\n",
    "* Configured the **Python machine learning client for SAP HANA (hana-ml)**, and connected to **SAP HANA Cloud**\n",
    "* Accessed and visually explored SAP HANA data using **SAP HANA DataFrames** in Python\n",
    "* Trained a **regression model** for the housing prices using **hana-ml Predictive Analysis Library (PAL) functions**\n",
    "* Performed **Model Evaluation** to show the model accuracy obtained\n",
    "* Improved the model via optimal parameter search\n",
    "* Re-trained the model using the newly optimized algorithm's parameters\n",
    "* Performed **Model Evaluation** of the re-trained model to demonstrate accuracy improvement"
   ]
  }
 ],
 "metadata": {
  "kernelspec": {
   "display_name": ".venv",
   "language": "python",
   "name": "python3"
  },
  "language_info": {
   "codemirror_mode": {
    "name": "ipython",
    "version": 3
   },
   "file_extension": ".py",
   "mimetype": "text/x-python",
   "name": "python",
   "nbconvert_exporter": "python",
   "pygments_lexer": "ipython3",
   "version": "3.12.9"
  }
 },
 "nbformat": 4,
 "nbformat_minor": 2
}
